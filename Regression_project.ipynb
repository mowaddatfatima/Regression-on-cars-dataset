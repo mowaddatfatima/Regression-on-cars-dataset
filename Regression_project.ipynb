{
  "cells": [
    {
      "cell_type": "markdown",
      "source": [
        "# Import Libraries"
      ],
      "metadata": {
        "id": "fPO3NGRQ36Hd"
      },
      "id": "fPO3NGRQ36Hd"
    },
    {
      "cell_type": "code",
      "execution_count": 1,
      "id": "296819ba",
      "metadata": {
        "id": "296819ba"
      },
      "outputs": [],
      "source": [
        "import numpy as np\n",
        "import pandas as pd\n",
        "import matplotlib.pyplot as plt\n",
        "import seaborn as sns\n",
        "\n",
        "import warnings\n",
        "warnings.filterwarnings(\"ignore\")"
      ]
    },
    {
      "cell_type": "code",
      "execution_count": 2,
      "id": "bc200a87",
      "metadata": {
        "id": "bc200a87",
        "outputId": "42712f5b-be10-4e1b-f89c-04276f2e86bf",
        "colab": {
          "base_uri": "https://localhost:8080/",
          "height": 319
        }
      },
      "outputs": [
        {
          "output_type": "execute_result",
          "data": {
            "text/plain": [
              "   symboling normalized-losses         make fuel-type   body-style  \\\n",
              "0          3                 ?  alfa-romero       gas  convertible   \n",
              "1          3                 ?  alfa-romero       gas  convertible   \n",
              "2          1                 ?  alfa-romero       gas    hatchback   \n",
              "3          2               164         audi       gas        sedan   \n",
              "4          2               164         audi       gas        sedan   \n",
              "\n",
              "  drive-wheels engine-location  width  height engine-type  engine-size  \\\n",
              "0          rwd           front   64.1    48.8        dohc          130   \n",
              "1          rwd           front   64.1    48.8        dohc          130   \n",
              "2          rwd           front   65.5    52.4        ohcv          152   \n",
              "3          fwd           front   66.2    54.3         ohc          109   \n",
              "4          4wd           front   66.4    54.3         ohc          136   \n",
              "\n",
              "  horsepower  city-mpg  highway-mpg  price  \n",
              "0        111        21           27  13495  \n",
              "1        111        21           27  16500  \n",
              "2        154        19           26  16500  \n",
              "3        102        24           30  13950  \n",
              "4        115        18           22  17450  "
            ],
            "text/html": [
              "\n",
              "  <div id=\"df-bb9d8e1d-b3b4-47af-85ae-858e007a7481\">\n",
              "    <div class=\"colab-df-container\">\n",
              "      <div>\n",
              "<style scoped>\n",
              "    .dataframe tbody tr th:only-of-type {\n",
              "        vertical-align: middle;\n",
              "    }\n",
              "\n",
              "    .dataframe tbody tr th {\n",
              "        vertical-align: top;\n",
              "    }\n",
              "\n",
              "    .dataframe thead th {\n",
              "        text-align: right;\n",
              "    }\n",
              "</style>\n",
              "<table border=\"1\" class=\"dataframe\">\n",
              "  <thead>\n",
              "    <tr style=\"text-align: right;\">\n",
              "      <th></th>\n",
              "      <th>symboling</th>\n",
              "      <th>normalized-losses</th>\n",
              "      <th>make</th>\n",
              "      <th>fuel-type</th>\n",
              "      <th>body-style</th>\n",
              "      <th>drive-wheels</th>\n",
              "      <th>engine-location</th>\n",
              "      <th>width</th>\n",
              "      <th>height</th>\n",
              "      <th>engine-type</th>\n",
              "      <th>engine-size</th>\n",
              "      <th>horsepower</th>\n",
              "      <th>city-mpg</th>\n",
              "      <th>highway-mpg</th>\n",
              "      <th>price</th>\n",
              "    </tr>\n",
              "  </thead>\n",
              "  <tbody>\n",
              "    <tr>\n",
              "      <th>0</th>\n",
              "      <td>3</td>\n",
              "      <td>?</td>\n",
              "      <td>alfa-romero</td>\n",
              "      <td>gas</td>\n",
              "      <td>convertible</td>\n",
              "      <td>rwd</td>\n",
              "      <td>front</td>\n",
              "      <td>64.1</td>\n",
              "      <td>48.8</td>\n",
              "      <td>dohc</td>\n",
              "      <td>130</td>\n",
              "      <td>111</td>\n",
              "      <td>21</td>\n",
              "      <td>27</td>\n",
              "      <td>13495</td>\n",
              "    </tr>\n",
              "    <tr>\n",
              "      <th>1</th>\n",
              "      <td>3</td>\n",
              "      <td>?</td>\n",
              "      <td>alfa-romero</td>\n",
              "      <td>gas</td>\n",
              "      <td>convertible</td>\n",
              "      <td>rwd</td>\n",
              "      <td>front</td>\n",
              "      <td>64.1</td>\n",
              "      <td>48.8</td>\n",
              "      <td>dohc</td>\n",
              "      <td>130</td>\n",
              "      <td>111</td>\n",
              "      <td>21</td>\n",
              "      <td>27</td>\n",
              "      <td>16500</td>\n",
              "    </tr>\n",
              "    <tr>\n",
              "      <th>2</th>\n",
              "      <td>1</td>\n",
              "      <td>?</td>\n",
              "      <td>alfa-romero</td>\n",
              "      <td>gas</td>\n",
              "      <td>hatchback</td>\n",
              "      <td>rwd</td>\n",
              "      <td>front</td>\n",
              "      <td>65.5</td>\n",
              "      <td>52.4</td>\n",
              "      <td>ohcv</td>\n",
              "      <td>152</td>\n",
              "      <td>154</td>\n",
              "      <td>19</td>\n",
              "      <td>26</td>\n",
              "      <td>16500</td>\n",
              "    </tr>\n",
              "    <tr>\n",
              "      <th>3</th>\n",
              "      <td>2</td>\n",
              "      <td>164</td>\n",
              "      <td>audi</td>\n",
              "      <td>gas</td>\n",
              "      <td>sedan</td>\n",
              "      <td>fwd</td>\n",
              "      <td>front</td>\n",
              "      <td>66.2</td>\n",
              "      <td>54.3</td>\n",
              "      <td>ohc</td>\n",
              "      <td>109</td>\n",
              "      <td>102</td>\n",
              "      <td>24</td>\n",
              "      <td>30</td>\n",
              "      <td>13950</td>\n",
              "    </tr>\n",
              "    <tr>\n",
              "      <th>4</th>\n",
              "      <td>2</td>\n",
              "      <td>164</td>\n",
              "      <td>audi</td>\n",
              "      <td>gas</td>\n",
              "      <td>sedan</td>\n",
              "      <td>4wd</td>\n",
              "      <td>front</td>\n",
              "      <td>66.4</td>\n",
              "      <td>54.3</td>\n",
              "      <td>ohc</td>\n",
              "      <td>136</td>\n",
              "      <td>115</td>\n",
              "      <td>18</td>\n",
              "      <td>22</td>\n",
              "      <td>17450</td>\n",
              "    </tr>\n",
              "  </tbody>\n",
              "</table>\n",
              "</div>\n",
              "      <button class=\"colab-df-convert\" onclick=\"convertToInteractive('df-bb9d8e1d-b3b4-47af-85ae-858e007a7481')\"\n",
              "              title=\"Convert this dataframe to an interactive table.\"\n",
              "              style=\"display:none;\">\n",
              "        \n",
              "  <svg xmlns=\"http://www.w3.org/2000/svg\" height=\"24px\"viewBox=\"0 0 24 24\"\n",
              "       width=\"24px\">\n",
              "    <path d=\"M0 0h24v24H0V0z\" fill=\"none\"/>\n",
              "    <path d=\"M18.56 5.44l.94 2.06.94-2.06 2.06-.94-2.06-.94-.94-2.06-.94 2.06-2.06.94zm-11 1L8.5 8.5l.94-2.06 2.06-.94-2.06-.94L8.5 2.5l-.94 2.06-2.06.94zm10 10l.94 2.06.94-2.06 2.06-.94-2.06-.94-.94-2.06-.94 2.06-2.06.94z\"/><path d=\"M17.41 7.96l-1.37-1.37c-.4-.4-.92-.59-1.43-.59-.52 0-1.04.2-1.43.59L10.3 9.45l-7.72 7.72c-.78.78-.78 2.05 0 2.83L4 21.41c.39.39.9.59 1.41.59.51 0 1.02-.2 1.41-.59l7.78-7.78 2.81-2.81c.8-.78.8-2.07 0-2.86zM5.41 20L4 18.59l7.72-7.72 1.47 1.35L5.41 20z\"/>\n",
              "  </svg>\n",
              "      </button>\n",
              "      \n",
              "  <style>\n",
              "    .colab-df-container {\n",
              "      display:flex;\n",
              "      flex-wrap:wrap;\n",
              "      gap: 12px;\n",
              "    }\n",
              "\n",
              "    .colab-df-convert {\n",
              "      background-color: #E8F0FE;\n",
              "      border: none;\n",
              "      border-radius: 50%;\n",
              "      cursor: pointer;\n",
              "      display: none;\n",
              "      fill: #1967D2;\n",
              "      height: 32px;\n",
              "      padding: 0 0 0 0;\n",
              "      width: 32px;\n",
              "    }\n",
              "\n",
              "    .colab-df-convert:hover {\n",
              "      background-color: #E2EBFA;\n",
              "      box-shadow: 0px 1px 2px rgba(60, 64, 67, 0.3), 0px 1px 3px 1px rgba(60, 64, 67, 0.15);\n",
              "      fill: #174EA6;\n",
              "    }\n",
              "\n",
              "    [theme=dark] .colab-df-convert {\n",
              "      background-color: #3B4455;\n",
              "      fill: #D2E3FC;\n",
              "    }\n",
              "\n",
              "    [theme=dark] .colab-df-convert:hover {\n",
              "      background-color: #434B5C;\n",
              "      box-shadow: 0px 1px 3px 1px rgba(0, 0, 0, 0.15);\n",
              "      filter: drop-shadow(0px 1px 2px rgba(0, 0, 0, 0.3));\n",
              "      fill: #FFFFFF;\n",
              "    }\n",
              "  </style>\n",
              "\n",
              "      <script>\n",
              "        const buttonEl =\n",
              "          document.querySelector('#df-bb9d8e1d-b3b4-47af-85ae-858e007a7481 button.colab-df-convert');\n",
              "        buttonEl.style.display =\n",
              "          google.colab.kernel.accessAllowed ? 'block' : 'none';\n",
              "\n",
              "        async function convertToInteractive(key) {\n",
              "          const element = document.querySelector('#df-bb9d8e1d-b3b4-47af-85ae-858e007a7481');\n",
              "          const dataTable =\n",
              "            await google.colab.kernel.invokeFunction('convertToInteractive',\n",
              "                                                     [key], {});\n",
              "          if (!dataTable) return;\n",
              "\n",
              "          const docLinkHtml = 'Like what you see? Visit the ' +\n",
              "            '<a target=\"_blank\" href=https://colab.research.google.com/notebooks/data_table.ipynb>data table notebook</a>'\n",
              "            + ' to learn more about interactive tables.';\n",
              "          element.innerHTML = '';\n",
              "          dataTable['output_type'] = 'display_data';\n",
              "          await google.colab.output.renderOutput(dataTable, element);\n",
              "          const docLink = document.createElement('div');\n",
              "          docLink.innerHTML = docLinkHtml;\n",
              "          element.appendChild(docLink);\n",
              "        }\n",
              "      </script>\n",
              "    </div>\n",
              "  </div>\n",
              "  "
            ]
          },
          "metadata": {},
          "execution_count": 2
        }
      ],
      "source": [
        "df = pd.read_csv('cars.csv')\n",
        "df.head()"
      ]
    },
    {
      "cell_type": "code",
      "execution_count": 3,
      "id": "b251f44d",
      "metadata": {
        "id": "b251f44d",
        "outputId": "0c40ba09-9028-4fc1-8e95-bc9d2f3fe323",
        "colab": {
          "base_uri": "https://localhost:8080/"
        }
      },
      "outputs": [
        {
          "output_type": "stream",
          "name": "stdout",
          "text": [
            "<class 'pandas.core.frame.DataFrame'>\n",
            "RangeIndex: 205 entries, 0 to 204\n",
            "Data columns (total 15 columns):\n",
            " #   Column             Non-Null Count  Dtype  \n",
            "---  ------             --------------  -----  \n",
            " 0   symboling          205 non-null    int64  \n",
            " 1   normalized-losses  205 non-null    object \n",
            " 2   make               205 non-null    object \n",
            " 3   fuel-type          205 non-null    object \n",
            " 4   body-style         205 non-null    object \n",
            " 5   drive-wheels       205 non-null    object \n",
            " 6   engine-location    205 non-null    object \n",
            " 7   width              205 non-null    float64\n",
            " 8   height             205 non-null    float64\n",
            " 9   engine-type        205 non-null    object \n",
            " 10  engine-size        205 non-null    int64  \n",
            " 11  horsepower         205 non-null    object \n",
            " 12  city-mpg           205 non-null    int64  \n",
            " 13  highway-mpg        205 non-null    int64  \n",
            " 14  price              205 non-null    int64  \n",
            "dtypes: float64(2), int64(5), object(8)\n",
            "memory usage: 24.1+ KB\n"
          ]
        }
      ],
      "source": [
        "df.info()"
      ]
    },
    {
      "cell_type": "code",
      "execution_count": 4,
      "id": "209c6f07",
      "metadata": {
        "id": "209c6f07"
      },
      "outputs": [],
      "source": [
        "df[\"normalized-losses\"].replace(\"?\", np.nan, inplace=True)\n",
        "df[\"horsepower\"].replace(\"?\", np.nan, inplace=True)\n",
        "\n",
        "df[\"normalized-losses\"] = df[\"normalized-losses\"].astype(\"float\")\n",
        "df[\"horsepower\"] = df[\"horsepower\"].astype(\"float\")\n",
        "\n",
        "nlmean = df[\"normalized-losses\"].mean() \n",
        "hpmean = df[\"horsepower\"].mean()\n",
        "\n",
        "df[\"normalized-losses\"].fillna(nlmean, inplace=True)\n",
        "df[\"horsepower\"].fillna(hpmean, inplace=True)"
      ]
    },
    {
      "cell_type": "code",
      "execution_count": 5,
      "id": "b4666c0f",
      "metadata": {
        "id": "b4666c0f",
        "outputId": "648209e2-628b-4503-a2e5-20bf7f175bcf",
        "colab": {
          "base_uri": "https://localhost:8080/"
        }
      },
      "outputs": [
        {
          "output_type": "stream",
          "name": "stdout",
          "text": [
            "<class 'pandas.core.frame.DataFrame'>\n",
            "RangeIndex: 205 entries, 0 to 204\n",
            "Data columns (total 15 columns):\n",
            " #   Column             Non-Null Count  Dtype  \n",
            "---  ------             --------------  -----  \n",
            " 0   symboling          205 non-null    int64  \n",
            " 1   normalized-losses  205 non-null    float64\n",
            " 2   make               205 non-null    object \n",
            " 3   fuel-type          205 non-null    object \n",
            " 4   body-style         205 non-null    object \n",
            " 5   drive-wheels       205 non-null    object \n",
            " 6   engine-location    205 non-null    object \n",
            " 7   width              205 non-null    float64\n",
            " 8   height             205 non-null    float64\n",
            " 9   engine-type        205 non-null    object \n",
            " 10  engine-size        205 non-null    int64  \n",
            " 11  horsepower         205 non-null    float64\n",
            " 12  city-mpg           205 non-null    int64  \n",
            " 13  highway-mpg        205 non-null    int64  \n",
            " 14  price              205 non-null    int64  \n",
            "dtypes: float64(4), int64(5), object(6)\n",
            "memory usage: 24.1+ KB\n"
          ]
        }
      ],
      "source": [
        "df.info()"
      ]
    },
    {
      "cell_type": "markdown",
      "source": [
        "# Outliers"
      ],
      "metadata": {
        "id": "Uopwqpcbz0vl"
      },
      "id": "Uopwqpcbz0vl"
    },
    {
      "cell_type": "code",
      "source": [
        "sns.boxplot(df['price'])"
      ],
      "metadata": {
        "colab": {
          "base_uri": "https://localhost:8080/",
          "height": 297
        },
        "id": "rOCkdVF4zzye",
        "outputId": "f6ae9534-923e-49cf-c05d-d3d18ffe2bde"
      },
      "id": "rOCkdVF4zzye",
      "execution_count": 6,
      "outputs": [
        {
          "output_type": "execute_result",
          "data": {
            "text/plain": [
              "<matplotlib.axes._subplots.AxesSubplot at 0x7facd0c3b8e0>"
            ]
          },
          "metadata": {},
          "execution_count": 6
        },
        {
          "output_type": "display_data",
          "data": {
            "text/plain": [
              "<Figure size 432x288 with 1 Axes>"
            ],
            "image/png": "[encoded data removed]"
          },
          "metadata": {
            "needs_background": "light"
          }
        }
      ]
    },
    {
      "cell_type": "code",
      "source": [
        "sns.boxplot(data=df, x='price', y='make')"
      ],
      "metadata": {
        "colab": {
          "base_uri": "https://localhost:8080/",
          "height": 297
        },
        "id": "uBUvcs1M0DiY",
        "outputId": "7aaf70e1-9a4e-4554-8fd8-adb2309bab6a"
      },
      "id": "uBUvcs1M0DiY",
      "execution_count": 7,
      "outputs": [
        {
          "output_type": "execute_result",
          "data": {
            "text/plain": [
              "<matplotlib.axes._subplots.AxesSubplot at 0x7facd06c2a60>"
            ]
          },
          "metadata": {},
          "execution_count": 7
        },
        {
          "output_type": "display_data",
          "data": {
            "text/plain": [
              "<Figure size 432x288 with 1 Axes>"
            ],
            "image/png": "[encoded data removed]"
          },
          "metadata": {
            "needs_background": "light"
          }
        }
      ]
    },
    {
      "cell_type": "code",
      "source": [
        "df[(df['make']=='isuzu') & (df['price']>20000)]\n",
        "df.drop(45, inplace=True)\n",
        "df[(df['make']=='dodge') & (df['price']>11000)]\n",
        "df.drop(29, inplace=True)\n",
        "df[(df['make']=='honda') & (df['price']>12000)]\n",
        "df.drop(41, inplace=True)\n",
        "df[(df['make']=='mitsubishi') & (df['price']>12000)]\n",
        "df.drop([82,83,84], inplace=True)\n",
        "df[(df['make']=='plymouth') & (df['price']>11000)]\n",
        "df.drop(124, inplace=True)\n",
        "df[(df['make']=='toyota') & (df['price']>13000)]\n",
        "df.drop([172,178,179,180,181], inplace=True)"
      ],
      "metadata": {
        "id": "ylolRLc20Dl5"
      },
      "id": "ylolRLc20Dl5",
      "execution_count": 8,
      "outputs": []
    },
    {
      "cell_type": "code",
      "source": [
        "sns.boxplot(data=df, x='price', y='make')"
      ],
      "metadata": {
        "colab": {
          "base_uri": "https://localhost:8080/",
          "height": 297
        },
        "id": "AiQD7Xe_0DqR",
        "outputId": "6a140fca-9fa9-4dae-9f60-a2c825a713db"
      },
      "id": "AiQD7Xe_0DqR",
      "execution_count": 9,
      "outputs": [
        {
          "output_type": "execute_result",
          "data": {
            "text/plain": [
              "<matplotlib.axes._subplots.AxesSubplot at 0x7facd04c9a00>"
            ]
          },
          "metadata": {},
          "execution_count": 9
        },
        {
          "output_type": "display_data",
          "data": {
            "text/plain": [
              "<Figure size 432x288 with 1 Axes>"
            ],
            "image/png": "[encoded data removed]"
          },
          "metadata": {
            "needs_background": "light"
          }
        }
      ]
    },
    {
      "cell_type": "markdown",
      "source": [
        "# Encoding\n"
      ],
      "metadata": {
        "id": "4w0lzmyw1Qsu"
      },
      "id": "4w0lzmyw1Qsu"
    },
    {
      "cell_type": "code",
      "execution_count": 10,
      "id": "81b03633",
      "metadata": {
        "id": "81b03633"
      },
      "outputs": [],
      "source": [
        "df_num = df.select_dtypes([\"int64\", \"float64\"])\n",
        "df_cat = df.select_dtypes(object)"
      ]
    },
    {
      "cell_type": "code",
      "execution_count": 11,
      "id": "a3bcab8f",
      "metadata": {
        "id": "a3bcab8f",
        "outputId": "658ad67f-60ba-443e-c4d9-b397d001ab98",
        "colab": {
          "base_uri": "https://localhost:8080/",
          "height": 423
        }
      },
      "outputs": [
        {
          "output_type": "execute_result",
          "data": {
            "text/plain": [
              "            make fuel-type   body-style drive-wheels engine-location  \\\n",
              "0    alfa-romero       gas  convertible          rwd           front   \n",
              "1    alfa-romero       gas  convertible          rwd           front   \n",
              "2    alfa-romero       gas    hatchback          rwd           front   \n",
              "3           audi       gas        sedan          fwd           front   \n",
              "4           audi       gas        sedan          4wd           front   \n",
              "..           ...       ...          ...          ...             ...   \n",
              "200        volvo       gas        sedan          rwd           front   \n",
              "201        volvo       gas        sedan          rwd           front   \n",
              "202        volvo       gas        sedan          rwd           front   \n",
              "203        volvo    diesel        sedan          rwd           front   \n",
              "204        volvo       gas        sedan          rwd           front   \n",
              "\n",
              "    engine-type  \n",
              "0          dohc  \n",
              "1          dohc  \n",
              "2          ohcv  \n",
              "3           ohc  \n",
              "4           ohc  \n",
              "..          ...  \n",
              "200         ohc  \n",
              "201         ohc  \n",
              "202        ohcv  \n",
              "203         ohc  \n",
              "204         ohc  \n",
              "\n",
              "[193 rows x 6 columns]"
            ],
            "text/html": [
              "\n",
              "  <div id=\"df-a16ed66a-4237-4416-9e39-1e01d6fdbdc7\">\n",
              "    <div class=\"colab-df-container\">\n",
              "      <div>\n",
              "<style scoped>\n",
              "    .dataframe tbody tr th:only-of-type {\n",
              "        vertical-align: middle;\n",
              "    }\n",
              "\n",
              "    .dataframe tbody tr th {\n",
              "        vertical-align: top;\n",
              "    }\n",
              "\n",
              "    .dataframe thead th {\n",
              "        text-align: right;\n",
              "    }\n",
              "</style>\n",
              "<table border=\"1\" class=\"dataframe\">\n",
              "  <thead>\n",
              "    <tr style=\"text-align: right;\">\n",
              "      <th></th>\n",
              "      <th>make</th>\n",
              "      <th>fuel-type</th>\n",
              "      <th>body-style</th>\n",
              "      <th>drive-wheels</th>\n",
              "      <th>engine-location</th>\n",
              "      <th>engine-type</th>\n",
              "    </tr>\n",
              "  </thead>\n",
              "  <tbody>\n",
              "    <tr>\n",
              "      <th>0</th>\n",
              "      <td>alfa-romero</td>\n",
              "      <td>gas</td>\n",
              "      <td>convertible</td>\n",
              "      <td>rwd</td>\n",
              "      <td>front</td>\n",
              "      <td>dohc</td>\n",
              "    </tr>\n",
              "    <tr>\n",
              "      <th>1</th>\n",
              "      <td>alfa-romero</td>\n",
              "      <td>gas</td>\n",
              "      <td>convertible</td>\n",
              "      <td>rwd</td>\n",
              "      <td>front</td>\n",
              "      <td>dohc</td>\n",
              "    </tr>\n",
              "    <tr>\n",
              "      <th>2</th>\n",
              "      <td>alfa-romero</td>\n",
              "      <td>gas</td>\n",
              "      <td>hatchback</td>\n",
              "      <td>rwd</td>\n",
              "      <td>front</td>\n",
              "      <td>ohcv</td>\n",
              "    </tr>\n",
              "    <tr>\n",
              "      <th>3</th>\n",
              "      <td>audi</td>\n",
              "      <td>gas</td>\n",
              "      <td>sedan</td>\n",
              "      <td>fwd</td>\n",
              "      <td>front</td>\n",
              "      <td>ohc</td>\n",
              "    </tr>\n",
              "    <tr>\n",
              "      <th>4</th>\n",
              "      <td>audi</td>\n",
              "      <td>gas</td>\n",
              "      <td>sedan</td>\n",
              "      <td>4wd</td>\n",
              "      <td>front</td>\n",
              "      <td>ohc</td>\n",
              "    </tr>\n",
              "    <tr>\n",
              "      <th>...</th>\n",
              "      <td>...</td>\n",
              "      <td>...</td>\n",
              "      <td>...</td>\n",
              "      <td>...</td>\n",
              "      <td>...</td>\n",
              "      <td>...</td>\n",
              "    </tr>\n",
              "    <tr>\n",
              "      <th>200</th>\n",
              "      <td>volvo</td>\n",
              "      <td>gas</td>\n",
              "      <td>sedan</td>\n",
              "      <td>rwd</td>\n",
              "      <td>front</td>\n",
              "      <td>ohc</td>\n",
              "    </tr>\n",
              "    <tr>\n",
              "      <th>201</th>\n",
              "      <td>volvo</td>\n",
              "      <td>gas</td>\n",
              "      <td>sedan</td>\n",
              "      <td>rwd</td>\n",
              "      <td>front</td>\n",
              "      <td>ohc</td>\n",
              "    </tr>\n",
              "    <tr>\n",
              "      <th>202</th>\n",
              "      <td>volvo</td>\n",
              "      <td>gas</td>\n",
              "      <td>sedan</td>\n",
              "      <td>rwd</td>\n",
              "      <td>front</td>\n",
              "      <td>ohcv</td>\n",
              "    </tr>\n",
              "    <tr>\n",
              "      <th>203</th>\n",
              "      <td>volvo</td>\n",
              "      <td>diesel</td>\n",
              "      <td>sedan</td>\n",
              "      <td>rwd</td>\n",
              "      <td>front</td>\n",
              "      <td>ohc</td>\n",
              "    </tr>\n",
              "    <tr>\n",
              "      <th>204</th>\n",
              "      <td>volvo</td>\n",
              "      <td>gas</td>\n",
              "      <td>sedan</td>\n",
              "      <td>rwd</td>\n",
              "      <td>front</td>\n",
              "      <td>ohc</td>\n",
              "    </tr>\n",
              "  </tbody>\n",
              "</table>\n",
              "<p>193 rows × 6 columns</p>\n",
              "</div>\n",
              "      <button class=\"colab-df-convert\" onclick=\"convertToInteractive('df-a16ed66a-4237-4416-9e39-1e01d6fdbdc7')\"\n",
              "              title=\"Convert this dataframe to an interactive table.\"\n",
              "              style=\"display:none;\">\n",
              "        \n",
              "  <svg xmlns=\"http://www.w3.org/2000/svg\" height=\"24px\"viewBox=\"0 0 24 24\"\n",
              "       width=\"24px\">\n",
              "    <path d=\"M0 0h24v24H0V0z\" fill=\"none\"/>\n",
              "    <path d=\"M18.56 5.44l.94 2.06.94-2.06 2.06-.94-2.06-.94-.94-2.06-.94 2.06-2.06.94zm-11 1L8.5 8.5l.94-2.06 2.06-.94-2.06-.94L8.5 2.5l-.94 2.06-2.06.94zm10 10l.94 2.06.94-2.06 2.06-.94-2.06-.94-.94-2.06-.94 2.06-2.06.94z\"/><path d=\"M17.41 7.96l-1.37-1.37c-.4-.4-.92-.59-1.43-.59-.52 0-1.04.2-1.43.59L10.3 9.45l-7.72 7.72c-.78.78-.78 2.05 0 2.83L4 21.41c.39.39.9.59 1.41.59.51 0 1.02-.2 1.41-.59l7.78-7.78 2.81-2.81c.8-.78.8-2.07 0-2.86zM5.41 20L4 18.59l7.72-7.72 1.47 1.35L5.41 20z\"/>\n",
              "  </svg>\n",
              "      </button>\n",
              "      \n",
              "  <style>\n",
              "    .colab-df-container {\n",
              "      display:flex;\n",
              "      flex-wrap:wrap;\n",
              "      gap: 12px;\n",
              "    }\n",
              "\n",
              "    .colab-df-convert {\n",
              "      background-color: #E8F0FE;\n",
              "      border: none;\n",
              "      border-radius: 50%;\n",
              "      cursor: pointer;\n",
              "      display: none;\n",
              "      fill: #1967D2;\n",
              "      height: 32px;\n",
              "      padding: 0 0 0 0;\n",
              "      width: 32px;\n",
              "    }\n",
              "\n",
              "    .colab-df-convert:hover {\n",
              "      background-color: #E2EBFA;\n",
              "      box-shadow: 0px 1px 2px rgba(60, 64, 67, 0.3), 0px 1px 3px 1px rgba(60, 64, 67, 0.15);\n",
              "      fill: #174EA6;\n",
              "    }\n",
              "\n",
              "    [theme=dark] .colab-df-convert {\n",
              "      background-color: #3B4455;\n",
              "      fill: #D2E3FC;\n",
              "    }\n",
              "\n",
              "    [theme=dark] .colab-df-convert:hover {\n",
              "      background-color: #434B5C;\n",
              "      box-shadow: 0px 1px 3px 1px rgba(0, 0, 0, 0.15);\n",
              "      filter: drop-shadow(0px 1px 2px rgba(0, 0, 0, 0.3));\n",
              "      fill: #FFFFFF;\n",
              "    }\n",
              "  </style>\n",
              "\n",
              "      <script>\n",
              "        const buttonEl =\n",
              "          document.querySelector('#df-a16ed66a-4237-4416-9e39-1e01d6fdbdc7 button.colab-df-convert');\n",
              "        buttonEl.style.display =\n",
              "          google.colab.kernel.accessAllowed ? 'block' : 'none';\n",
              "\n",
              "        async function convertToInteractive(key) {\n",
              "          const element = document.querySelector('#df-a16ed66a-4237-4416-9e39-1e01d6fdbdc7');\n",
              "          const dataTable =\n",
              "            await google.colab.kernel.invokeFunction('convertToInteractive',\n",
              "                                                     [key], {});\n",
              "          if (!dataTable) return;\n",
              "\n",
              "          const docLinkHtml = 'Like what you see? Visit the ' +\n",
              "            '<a target=\"_blank\" href=https://colab.research.google.com/notebooks/data_table.ipynb>data table notebook</a>'\n",
              "            + ' to learn more about interactive tables.';\n",
              "          element.innerHTML = '';\n",
              "          dataTable['output_type'] = 'display_data';\n",
              "          await google.colab.output.renderOutput(dataTable, element);\n",
              "          const docLink = document.createElement('div');\n",
              "          docLink.innerHTML = docLinkHtml;\n",
              "          element.appendChild(docLink);\n",
              "        }\n",
              "      </script>\n",
              "    </div>\n",
              "  </div>\n",
              "  "
            ]
          },
          "metadata": {},
          "execution_count": 11
        }
      ],
      "source": [
        "df_cat"
      ]
    },
    {
      "cell_type": "code",
      "execution_count": 12,
      "id": "c0a3676e",
      "metadata": {
        "id": "c0a3676e"
      },
      "outputs": [],
      "source": [
        "from sklearn.preprocessing import LabelEncoder"
      ]
    },
    {
      "cell_type": "code",
      "execution_count": 13,
      "id": "fd1da212",
      "metadata": {
        "id": "fd1da212"
      },
      "outputs": [],
      "source": [
        "for col in df_cat:\n",
        "    le = LabelEncoder()\n",
        "    df_cat[col] = le.fit_transform(df_cat[col])"
      ]
    },
    {
      "cell_type": "code",
      "execution_count": 14,
      "id": "2c4c8771",
      "metadata": {
        "id": "2c4c8771",
        "outputId": "361f2f8d-3de8-491f-88eb-ab294e91f4fd",
        "colab": {
          "base_uri": "https://localhost:8080/",
          "height": 423
        }
      },
      "outputs": [
        {
          "output_type": "execute_result",
          "data": {
            "text/plain": [
              "     make  fuel-type  body-style  drive-wheels  engine-location  engine-type\n",
              "0       0          1           0             2                0            0\n",
              "1       0          1           0             2                0            0\n",
              "2       0          1           2             2                0            5\n",
              "3       1          1           3             1                0            3\n",
              "4       1          1           3             0                0            3\n",
              "..    ...        ...         ...           ...              ...          ...\n",
              "200    21          1           3             2                0            3\n",
              "201    21          1           3             2                0            3\n",
              "202    21          1           3             2                0            5\n",
              "203    21          0           3             2                0            3\n",
              "204    21          1           3             2                0            3\n",
              "\n",
              "[193 rows x 6 columns]"
            ],
            "text/html": [
              "\n",
              "  <div id=\"df-209383d7-bc28-4f23-af92-310c0cae10e0\">\n",
              "    <div class=\"colab-df-container\">\n",
              "      <div>\n",
              "<style scoped>\n",
              "    .dataframe tbody tr th:only-of-type {\n",
              "        vertical-align: middle;\n",
              "    }\n",
              "\n",
              "    .dataframe tbody tr th {\n",
              "        vertical-align: top;\n",
              "    }\n",
              "\n",
              "    .dataframe thead th {\n",
              "        text-align: right;\n",
              "    }\n",
              "</style>\n",
              "<table border=\"1\" class=\"dataframe\">\n",
              "  <thead>\n",
              "    <tr style=\"text-align: right;\">\n",
              "      <th></th>\n",
              "      <th>make</th>\n",
              "      <th>fuel-type</th>\n",
              "      <th>body-style</th>\n",
              "      <th>drive-wheels</th>\n",
              "      <th>engine-location</th>\n",
              "      <th>engine-type</th>\n",
              "    </tr>\n",
              "  </thead>\n",
              "  <tbody>\n",
              "    <tr>\n",
              "      <th>0</th>\n",
              "      <td>0</td>\n",
              "      <td>1</td>\n",
              "      <td>0</td>\n",
              "      <td>2</td>\n",
              "      <td>0</td>\n",
              "      <td>0</td>\n",
              "    </tr>\n",
              "    <tr>\n",
              "      <th>1</th>\n",
              "      <td>0</td>\n",
              "      <td>1</td>\n",
              "      <td>0</td>\n",
              "      <td>2</td>\n",
              "      <td>0</td>\n",
              "      <td>0</td>\n",
              "    </tr>\n",
              "    <tr>\n",
              "      <th>2</th>\n",
              "      <td>0</td>\n",
              "      <td>1</td>\n",
              "      <td>2</td>\n",
              "      <td>2</td>\n",
              "      <td>0</td>\n",
              "      <td>5</td>\n",
              "    </tr>\n",
              "    <tr>\n",
              "      <th>3</th>\n",
              "      <td>1</td>\n",
              "      <td>1</td>\n",
              "      <td>3</td>\n",
              "      <td>1</td>\n",
              "      <td>0</td>\n",
              "      <td>3</td>\n",
              "    </tr>\n",
              "    <tr>\n",
              "      <th>4</th>\n",
              "      <td>1</td>\n",
              "      <td>1</td>\n",
              "      <td>3</td>\n",
              "      <td>0</td>\n",
              "      <td>0</td>\n",
              "      <td>3</td>\n",
              "    </tr>\n",
              "    <tr>\n",
              "      <th>...</th>\n",
              "      <td>...</td>\n",
              "      <td>...</td>\n",
              "      <td>...</td>\n",
              "      <td>...</td>\n",
              "      <td>...</td>\n",
              "      <td>...</td>\n",
              "    </tr>\n",
              "    <tr>\n",
              "      <th>200</th>\n",
              "      <td>21</td>\n",
              "      <td>1</td>\n",
              "      <td>3</td>\n",
              "      <td>2</td>\n",
              "      <td>0</td>\n",
              "      <td>3</td>\n",
              "    </tr>\n",
              "    <tr>\n",
              "      <th>201</th>\n",
              "      <td>21</td>\n",
              "      <td>1</td>\n",
              "      <td>3</td>\n",
              "      <td>2</td>\n",
              "      <td>0</td>\n",
              "      <td>3</td>\n",
              "    </tr>\n",
              "    <tr>\n",
              "      <th>202</th>\n",
              "      <td>21</td>\n",
              "      <td>1</td>\n",
              "      <td>3</td>\n",
              "      <td>2</td>\n",
              "      <td>0</td>\n",
              "      <td>5</td>\n",
              "    </tr>\n",
              "    <tr>\n",
              "      <th>203</th>\n",
              "      <td>21</td>\n",
              "      <td>0</td>\n",
              "      <td>3</td>\n",
              "      <td>2</td>\n",
              "      <td>0</td>\n",
              "      <td>3</td>\n",
              "    </tr>\n",
              "    <tr>\n",
              "      <th>204</th>\n",
              "      <td>21</td>\n",
              "      <td>1</td>\n",
              "      <td>3</td>\n",
              "      <td>2</td>\n",
              "      <td>0</td>\n",
              "      <td>3</td>\n",
              "    </tr>\n",
              "  </tbody>\n",
              "</table>\n",
              "<p>193 rows × 6 columns</p>\n",
              "</div>\n",
              "      <button class=\"colab-df-convert\" onclick=\"convertToInteractive('df-209383d7-bc28-4f23-af92-310c0cae10e0')\"\n",
              "              title=\"Convert this dataframe to an interactive table.\"\n",
              "              style=\"display:none;\">\n",
              "        \n",
              "  <svg xmlns=\"http://www.w3.org/2000/svg\" height=\"24px\"viewBox=\"0 0 24 24\"\n",
              "       width=\"24px\">\n",
              "    <path d=\"M0 0h24v24H0V0z\" fill=\"none\"/>\n",
              "    <path d=\"M18.56 5.44l.94 2.06.94-2.06 2.06-.94-2.06-.94-.94-2.06-.94 2.06-2.06.94zm-11 1L8.5 8.5l.94-2.06 2.06-.94-2.06-.94L8.5 2.5l-.94 2.06-2.06.94zm10 10l.94 2.06.94-2.06 2.06-.94-2.06-.94-.94-2.06-.94 2.06-2.06.94z\"/><path d=\"M17.41 7.96l-1.37-1.37c-.4-.4-.92-.59-1.43-.59-.52 0-1.04.2-1.43.59L10.3 9.45l-7.72 7.72c-.78.78-.78 2.05 0 2.83L4 21.41c.39.39.9.59 1.41.59.51 0 1.02-.2 1.41-.59l7.78-7.78 2.81-2.81c.8-.78.8-2.07 0-2.86zM5.41 20L4 18.59l7.72-7.72 1.47 1.35L5.41 20z\"/>\n",
              "  </svg>\n",
              "      </button>\n",
              "      \n",
              "  <style>\n",
              "    .colab-df-container {\n",
              "      display:flex;\n",
              "      flex-wrap:wrap;\n",
              "      gap: 12px;\n",
              "    }\n",
              "\n",
              "    .colab-df-convert {\n",
              "      background-color: #E8F0FE;\n",
              "      border: none;\n",
              "      border-radius: 50%;\n",
              "      cursor: pointer;\n",
              "      display: none;\n",
              "      fill: #1967D2;\n",
              "      height: 32px;\n",
              "      padding: 0 0 0 0;\n",
              "      width: 32px;\n",
              "    }\n",
              "\n",
              "    .colab-df-convert:hover {\n",
              "      background-color: #E2EBFA;\n",
              "      box-shadow: 0px 1px 2px rgba(60, 64, 67, 0.3), 0px 1px 3px 1px rgba(60, 64, 67, 0.15);\n",
              "      fill: #174EA6;\n",
              "    }\n",
              "\n",
              "    [theme=dark] .colab-df-convert {\n",
              "      background-color: #3B4455;\n",
              "      fill: #D2E3FC;\n",
              "    }\n",
              "\n",
              "    [theme=dark] .colab-df-convert:hover {\n",
              "      background-color: #434B5C;\n",
              "      box-shadow: 0px 1px 3px 1px rgba(0, 0, 0, 0.15);\n",
              "      filter: drop-shadow(0px 1px 2px rgba(0, 0, 0, 0.3));\n",
              "      fill: #FFFFFF;\n",
              "    }\n",
              "  </style>\n",
              "\n",
              "      <script>\n",
              "        const buttonEl =\n",
              "          document.querySelector('#df-209383d7-bc28-4f23-af92-310c0cae10e0 button.colab-df-convert');\n",
              "        buttonEl.style.display =\n",
              "          google.colab.kernel.accessAllowed ? 'block' : 'none';\n",
              "\n",
              "        async function convertToInteractive(key) {\n",
              "          const element = document.querySelector('#df-209383d7-bc28-4f23-af92-310c0cae10e0');\n",
              "          const dataTable =\n",
              "            await google.colab.kernel.invokeFunction('convertToInteractive',\n",
              "                                                     [key], {});\n",
              "          if (!dataTable) return;\n",
              "\n",
              "          const docLinkHtml = 'Like what you see? Visit the ' +\n",
              "            '<a target=\"_blank\" href=https://colab.research.google.com/notebooks/data_table.ipynb>data table notebook</a>'\n",
              "            + ' to learn more about interactive tables.';\n",
              "          element.innerHTML = '';\n",
              "          dataTable['output_type'] = 'display_data';\n",
              "          await google.colab.output.renderOutput(dataTable, element);\n",
              "          const docLink = document.createElement('div');\n",
              "          docLink.innerHTML = docLinkHtml;\n",
              "          element.appendChild(docLink);\n",
              "        }\n",
              "      </script>\n",
              "    </div>\n",
              "  </div>\n",
              "  "
            ]
          },
          "metadata": {},
          "execution_count": 14
        }
      ],
      "source": [
        "df_cat"
      ]
    },
    {
      "cell_type": "markdown",
      "source": [
        "# Skewness\n"
      ],
      "metadata": {
        "id": "oBBc4poa1lrp"
      },
      "id": "oBBc4poa1lrp"
    },
    {
      "cell_type": "code",
      "source": [
        "df_num"
      ],
      "metadata": {
        "colab": {
          "base_uri": "https://localhost:8080/",
          "height": 423
        },
        "id": "O2csublM1vH_",
        "outputId": "706b6ae0-9177-4a0f-8540-34902b1a9c79"
      },
      "id": "O2csublM1vH_",
      "execution_count": 15,
      "outputs": [
        {
          "output_type": "execute_result",
          "data": {
            "text/plain": [
              "     symboling  normalized-losses  width  height  engine-size  horsepower  \\\n",
              "0            3              122.0   64.1    48.8          130       111.0   \n",
              "1            3              122.0   64.1    48.8          130       111.0   \n",
              "2            1              122.0   65.5    52.4          152       154.0   \n",
              "3            2              164.0   66.2    54.3          109       102.0   \n",
              "4            2              164.0   66.4    54.3          136       115.0   \n",
              "..         ...                ...    ...     ...          ...         ...   \n",
              "200         -1               95.0   68.9    55.5          141       114.0   \n",
              "201         -1               95.0   68.8    55.5          141       160.0   \n",
              "202         -1               95.0   68.9    55.5          173       134.0   \n",
              "203         -1               95.0   68.9    55.5          145       106.0   \n",
              "204         -1               95.0   68.9    55.5          141       114.0   \n",
              "\n",
              "     city-mpg  highway-mpg  price  \n",
              "0          21           27  13495  \n",
              "1          21           27  16500  \n",
              "2          19           26  16500  \n",
              "3          24           30  13950  \n",
              "4          18           22  17450  \n",
              "..        ...          ...    ...  \n",
              "200        23           28  16845  \n",
              "201        19           25  19045  \n",
              "202        18           23  21485  \n",
              "203        26           27  22470  \n",
              "204        19           25  22625  \n",
              "\n",
              "[193 rows x 9 columns]"
            ],
            "text/html": [
              "\n",
              "  <div id=\"df-14939fa8-94ba-412f-8d21-e92b69ac0e88\">\n",
              "    <div class=\"colab-df-container\">\n",
              "      <div>\n",
              "<style scoped>\n",
              "    .dataframe tbody tr th:only-of-type {\n",
              "        vertical-align: middle;\n",
              "    }\n",
              "\n",
              "    .dataframe tbody tr th {\n",
              "        vertical-align: top;\n",
              "    }\n",
              "\n",
              "    .dataframe thead th {\n",
              "        text-align: right;\n",
              "    }\n",
              "</style>\n",
              "<table border=\"1\" class=\"dataframe\">\n",
              "  <thead>\n",
              "    <tr style=\"text-align: right;\">\n",
              "      <th></th>\n",
              "      <th>symboling</th>\n",
              "      <th>normalized-losses</th>\n",
              "      <th>width</th>\n",
              "      <th>height</th>\n",
              "      <th>engine-size</th>\n",
              "      <th>horsepower</th>\n",
              "      <th>city-mpg</th>\n",
              "      <th>highway-mpg</th>\n",
              "      <th>price</th>\n",
              "    </tr>\n",
              "  </thead>\n",
              "  <tbody>\n",
              "    <tr>\n",
              "      <th>0</th>\n",
              "      <td>3</td>\n",
              "      <td>122.0</td>\n",
              "      <td>64.1</td>\n",
              "      <td>48.8</td>\n",
              "      <td>130</td>\n",
              "      <td>111.0</td>\n",
              "      <td>21</td>\n",
              "      <td>27</td>\n",
              "      <td>13495</td>\n",
              "    </tr>\n",
              "    <tr>\n",
              "      <th>1</th>\n",
              "      <td>3</td>\n",
              "      <td>122.0</td>\n",
              "      <td>64.1</td>\n",
              "      <td>48.8</td>\n",
              "      <td>130</td>\n",
              "      <td>111.0</td>\n",
              "      <td>21</td>\n",
              "      <td>27</td>\n",
              "      <td>16500</td>\n",
              "    </tr>\n",
              "    <tr>\n",
              "      <th>2</th>\n",
              "      <td>1</td>\n",
              "      <td>122.0</td>\n",
              "      <td>65.5</td>\n",
              "      <td>52.4</td>\n",
              "      <td>152</td>\n",
              "      <td>154.0</td>\n",
              "      <td>19</td>\n",
              "      <td>26</td>\n",
              "      <td>16500</td>\n",
              "    </tr>\n",
              "    <tr>\n",
              "      <th>3</th>\n",
              "      <td>2</td>\n",
              "      <td>164.0</td>\n",
              "      <td>66.2</td>\n",
              "      <td>54.3</td>\n",
              "      <td>109</td>\n",
              "      <td>102.0</td>\n",
              "      <td>24</td>\n",
              "      <td>30</td>\n",
              "      <td>13950</td>\n",
              "    </tr>\n",
              "    <tr>\n",
              "      <th>4</th>\n",
              "      <td>2</td>\n",
              "      <td>164.0</td>\n",
              "      <td>66.4</td>\n",
              "      <td>54.3</td>\n",
              "      <td>136</td>\n",
              "      <td>115.0</td>\n",
              "      <td>18</td>\n",
              "      <td>22</td>\n",
              "      <td>17450</td>\n",
              "    </tr>\n",
              "    <tr>\n",
              "      <th>...</th>\n",
              "      <td>...</td>\n",
              "      <td>...</td>\n",
              "      <td>...</td>\n",
              "      <td>...</td>\n",
              "      <td>...</td>\n",
              "      <td>...</td>\n",
              "      <td>...</td>\n",
              "      <td>...</td>\n",
              "      <td>...</td>\n",
              "    </tr>\n",
              "    <tr>\n",
              "      <th>200</th>\n",
              "      <td>-1</td>\n",
              "      <td>95.0</td>\n",
              "      <td>68.9</td>\n",
              "      <td>55.5</td>\n",
              "      <td>141</td>\n",
              "      <td>114.0</td>\n",
              "      <td>23</td>\n",
              "      <td>28</td>\n",
              "      <td>16845</td>\n",
              "    </tr>\n",
              "    <tr>\n",
              "      <th>201</th>\n",
              "      <td>-1</td>\n",
              "      <td>95.0</td>\n",
              "      <td>68.8</td>\n",
              "      <td>55.5</td>\n",
              "      <td>141</td>\n",
              "      <td>160.0</td>\n",
              "      <td>19</td>\n",
              "      <td>25</td>\n",
              "      <td>19045</td>\n",
              "    </tr>\n",
              "    <tr>\n",
              "      <th>202</th>\n",
              "      <td>-1</td>\n",
              "      <td>95.0</td>\n",
              "      <td>68.9</td>\n",
              "      <td>55.5</td>\n",
              "      <td>173</td>\n",
              "      <td>134.0</td>\n",
              "      <td>18</td>\n",
              "      <td>23</td>\n",
              "      <td>21485</td>\n",
              "    </tr>\n",
              "    <tr>\n",
              "      <th>203</th>\n",
              "      <td>-1</td>\n",
              "      <td>95.0</td>\n",
              "      <td>68.9</td>\n",
              "      <td>55.5</td>\n",
              "      <td>145</td>\n",
              "      <td>106.0</td>\n",
              "      <td>26</td>\n",
              "      <td>27</td>\n",
              "      <td>22470</td>\n",
              "    </tr>\n",
              "    <tr>\n",
              "      <th>204</th>\n",
              "      <td>-1</td>\n",
              "      <td>95.0</td>\n",
              "      <td>68.9</td>\n",
              "      <td>55.5</td>\n",
              "      <td>141</td>\n",
              "      <td>114.0</td>\n",
              "      <td>19</td>\n",
              "      <td>25</td>\n",
              "      <td>22625</td>\n",
              "    </tr>\n",
              "  </tbody>\n",
              "</table>\n",
              "<p>193 rows × 9 columns</p>\n",
              "</div>\n",
              "      <button class=\"colab-df-convert\" onclick=\"convertToInteractive('df-14939fa8-94ba-412f-8d21-e92b69ac0e88')\"\n",
              "              title=\"Convert this dataframe to an interactive table.\"\n",
              "              style=\"display:none;\">\n",
              "        \n",
              "  <svg xmlns=\"http://www.w3.org/2000/svg\" height=\"24px\"viewBox=\"0 0 24 24\"\n",
              "       width=\"24px\">\n",
              "    <path d=\"M0 0h24v24H0V0z\" fill=\"none\"/>\n",
              "    <path d=\"M18.56 5.44l.94 2.06.94-2.06 2.06-.94-2.06-.94-.94-2.06-.94 2.06-2.06.94zm-11 1L8.5 8.5l.94-2.06 2.06-.94-2.06-.94L8.5 2.5l-.94 2.06-2.06.94zm10 10l.94 2.06.94-2.06 2.06-.94-2.06-.94-.94-2.06-.94 2.06-2.06.94z\"/><path d=\"M17.41 7.96l-1.37-1.37c-.4-.4-.92-.59-1.43-.59-.52 0-1.04.2-1.43.59L10.3 9.45l-7.72 7.72c-.78.78-.78 2.05 0 2.83L4 21.41c.39.39.9.59 1.41.59.51 0 1.02-.2 1.41-.59l7.78-7.78 2.81-2.81c.8-.78.8-2.07 0-2.86zM5.41 20L4 18.59l7.72-7.72 1.47 1.35L5.41 20z\"/>\n",
              "  </svg>\n",
              "      </button>\n",
              "      \n",
              "  <style>\n",
              "    .colab-df-container {\n",
              "      display:flex;\n",
              "      flex-wrap:wrap;\n",
              "      gap: 12px;\n",
              "    }\n",
              "\n",
              "    .colab-df-convert {\n",
              "      background-color: #E8F0FE;\n",
              "      border: none;\n",
              "      border-radius: 50%;\n",
              "      cursor: pointer;\n",
              "      display: none;\n",
              "      fill: #1967D2;\n",
              "      height: 32px;\n",
              "      padding: 0 0 0 0;\n",
              "      width: 32px;\n",
              "    }\n",
              "\n",
              "    .colab-df-convert:hover {\n",
              "      background-color: #E2EBFA;\n",
              "      box-shadow: 0px 1px 2px rgba(60, 64, 67, 0.3), 0px 1px 3px 1px rgba(60, 64, 67, 0.15);\n",
              "      fill: #174EA6;\n",
              "    }\n",
              "\n",
              "    [theme=dark] .colab-df-convert {\n",
              "      background-color: #3B4455;\n",
              "      fill: #D2E3FC;\n",
              "    }\n",
              "\n",
              "    [theme=dark] .colab-df-convert:hover {\n",
              "      background-color: #434B5C;\n",
              "      box-shadow: 0px 1px 3px 1px rgba(0, 0, 0, 0.15);\n",
              "      filter: drop-shadow(0px 1px 2px rgba(0, 0, 0, 0.3));\n",
              "      fill: #FFFFFF;\n",
              "    }\n",
              "  </style>\n",
              "\n",
              "      <script>\n",
              "        const buttonEl =\n",
              "          document.querySelector('#df-14939fa8-94ba-412f-8d21-e92b69ac0e88 button.colab-df-convert');\n",
              "        buttonEl.style.display =\n",
              "          google.colab.kernel.accessAllowed ? 'block' : 'none';\n",
              "\n",
              "        async function convertToInteractive(key) {\n",
              "          const element = document.querySelector('#df-14939fa8-94ba-412f-8d21-e92b69ac0e88');\n",
              "          const dataTable =\n",
              "            await google.colab.kernel.invokeFunction('convertToInteractive',\n",
              "                                                     [key], {});\n",
              "          if (!dataTable) return;\n",
              "\n",
              "          const docLinkHtml = 'Like what you see? Visit the ' +\n",
              "            '<a target=\"_blank\" href=https://colab.research.google.com/notebooks/data_table.ipynb>data table notebook</a>'\n",
              "            + ' to learn more about interactive tables.';\n",
              "          element.innerHTML = '';\n",
              "          dataTable['output_type'] = 'display_data';\n",
              "          await google.colab.output.renderOutput(dataTable, element);\n",
              "          const docLink = document.createElement('div');\n",
              "          docLink.innerHTML = docLinkHtml;\n",
              "          element.appendChild(docLink);\n",
              "        }\n",
              "      </script>\n",
              "    </div>\n",
              "  </div>\n",
              "  "
            ]
          },
          "metadata": {},
          "execution_count": 15
        }
      ]
    },
    {
      "cell_type": "code",
      "source": [
        "from scipy.stats import skew\n",
        "\n",
        "for col in df_num:\n",
        "    print(col)\n",
        "    print(skew(df_num[col]))\n",
        "    \n",
        "    plt.figure()\n",
        "    sns.distplot(df_num[col])\n",
        "    plt.show()"
      ],
      "metadata": {
        "colab": {
          "base_uri": "https://localhost:8080/",
          "height": 1000
        },
        "id": "C3HsRuvM1vLg",
        "outputId": "09f8be77-211a-414c-f2c7-c268f2585f26"
      },
      "id": "C3HsRuvM1vLg",
      "execution_count": 16,
      "outputs": [
        {
          "output_type": "stream",
          "name": "stdout",
          "text": [
            "symboling\n",
            "0.2147470605758054\n"
          ]
        },
        {
          "output_type": "display_data",
          "data": {
            "text/plain": [
              "<Figure size 432x288 with 1 Axes>"
            ],
            "image/png": "[encoded data removed]"
          },
          "metadata": {
            "needs_background": "light"
          }
        },
        {
          "output_type": "stream",
          "name": "stdout",
          "text": [
            "normalized-losses\n",
            "0.846315331460635\n"
          ]
        },
        {
          "output_type": "display_data",
          "data": {
            "text/plain": [
              "<Figure size 432x288 with 1 Axes>"
            ],
            "image/png": "[encoded data removed]"
          },
          "metadata": {
            "needs_background": "light"
          }
        },
        {
          "output_type": "stream",
          "name": "stdout",
          "text": [
            "width\n",
            "0.9147899492639983\n"
          ]
        },
        {
          "output_type": "display_data",
          "data": {
            "text/plain": [
              "<Figure size 432x288 with 1 Axes>"
            ],
            "image/png": "[encoded data removed]"
          },
          "metadata": {
            "needs_background": "light"
          }
        },
        {
          "output_type": "stream",
          "name": "stdout",
          "text": [
            "height\n",
            "0.007986794777796822\n"
          ]
        },
        {
          "output_type": "display_data",
          "data": {
            "text/plain": [
              "<Figure size 432x288 with 1 Axes>"
            ],
            "image/png": "[encoded data removed]"
          },
          "metadata": {
            "needs_background": "light"
          }
        },
        {
          "output_type": "stream",
          "name": "stdout",
          "text": [
            "engine-size\n",
            "2.0664919440355707\n"
          ]
        },
        {
          "output_type": "display_data",
          "data": {
            "text/plain": [
              "<Figure size 432x288 with 1 Axes>"
            ],
            "image/png": "[encoded data removed]"
          },
          "metadata": {
            "needs_background": "light"
          }
        },
        {
          "output_type": "stream",
          "name": "stdout",
          "text": [
            "horsepower\n",
            "1.576213559993105\n"
          ]
        },
        {
          "output_type": "display_data",
          "data": {
            "text/plain": [
              "<Figure size 432x288 with 1 Axes>"
            ],
            "image/png": "[encoded data removed]"
          },
          "metadata": {
            "needs_background": "light"
          }
        },
        {
          "output_type": "stream",
          "name": "stdout",
          "text": [
            "city-mpg\n",
            "0.5925146641287237\n"
          ]
        },
        {
          "output_type": "display_data",
          "data": {
            "text/plain": [
              "<Figure size 432x288 with 1 Axes>"
            ],
            "image/png": "[encoded data removed]"
          },
          "metadata": {
            "needs_background": "light"
          }
        },
        {
          "output_type": "stream",
          "name": "stdout",
          "text": [
            "highway-mpg\n",
            "0.4682909445793763\n"
          ]
        },
        {
          "output_type": "display_data",
          "data": {
            "text/plain": [
              "<Figure size 432x288 with 1 Axes>"
            ],
            "image/png": "[encoded data removed]"
          },
          "metadata": {
            "needs_background": "light"
          }
        },
        {
          "output_type": "stream",
          "name": "stdout",
          "text": [
            "price\n",
            "1.8111556001787903\n"
          ]
        },
        {
          "output_type": "display_data",
          "data": {
            "text/plain": [
              "<Figure size 432x288 with 1 Axes>"
            ],
            "image/png": "[encoded data removed]"
          },
          "metadata": {
            "needs_background": "light"
          }
        }
      ]
    },
    {
      "cell_type": "code",
      "source": [
        "sns.heatmap(df_num.corr(), annot=True)"
      ],
      "metadata": {
        "colab": {
          "base_uri": "https://localhost:8080/",
          "height": 367
        },
        "id": "-UlvBf852AcL",
        "outputId": "138d8cab-39e1-43d7-ba9f-404caee26547"
      },
      "id": "-UlvBf852AcL",
      "execution_count": 17,
      "outputs": [
        {
          "output_type": "execute_result",
          "data": {
            "text/plain": [
              "<matplotlib.axes._subplots.AxesSubplot at 0x7faccdc5e4c0>"
            ]
          },
          "metadata": {},
          "execution_count": 17
        },
        {
          "output_type": "display_data",
          "data": {
            "text/plain": [
              "<Figure size 432x288 with 2 Axes>"
            ],
            "image/png": "[encoded data removed]"
          },
          "metadata": {
            "needs_background": "light"
          }
        }
      ]
    },
    {
      "cell_type": "code",
      "source": [
        "df_num['normalized-losses'] = np.sqrt(df_num['normalized-losses'])"
      ],
      "metadata": {
        "id": "F56QnV4S2Afp"
      },
      "id": "F56QnV4S2Afp",
      "execution_count": 18,
      "outputs": []
    },
    {
      "cell_type": "code",
      "source": [
        "skew(df_num['normalized-losses'])"
      ],
      "metadata": {
        "colab": {
          "base_uri": "https://localhost:8080/"
        },
        "id": "10VRumWy2LCU",
        "outputId": "ede31526-e537-4b31-e865-ddacb9c90069"
      },
      "id": "10VRumWy2LCU",
      "execution_count": 19,
      "outputs": [
        {
          "output_type": "execute_result",
          "data": {
            "text/plain": [
              "0.4138774124738748"
            ]
          },
          "metadata": {},
          "execution_count": 19
        }
      ]
    },
    {
      "cell_type": "markdown",
      "source": [
        "# concating the dataset"
      ],
      "metadata": {
        "id": "RQxETHzi2RBn"
      },
      "id": "RQxETHzi2RBn"
    },
    {
      "cell_type": "code",
      "execution_count": 20,
      "id": "3fd2070e",
      "metadata": {
        "id": "3fd2070e"
      },
      "outputs": [],
      "source": [
        "df = pd.concat([df_cat, df_num], axis=1)"
      ]
    },
    {
      "cell_type": "code",
      "execution_count": 21,
      "id": "f7c99082",
      "metadata": {
        "id": "f7c99082",
        "outputId": "161d443b-a7f0-45f0-e391-886e6edae9d2",
        "colab": {
          "base_uri": "https://localhost:8080/",
          "height": 250
        }
      },
      "outputs": [
        {
          "output_type": "execute_result",
          "data": {
            "text/plain": [
              "   make  fuel-type  body-style  drive-wheels  engine-location  engine-type  \\\n",
              "0     0          1           0             2                0            0   \n",
              "1     0          1           0             2                0            0   \n",
              "2     0          1           2             2                0            5   \n",
              "3     1          1           3             1                0            3   \n",
              "4     1          1           3             0                0            3   \n",
              "\n",
              "   symboling  normalized-losses  width  height  engine-size  horsepower  \\\n",
              "0          3          11.045361   64.1    48.8          130       111.0   \n",
              "1          3          11.045361   64.1    48.8          130       111.0   \n",
              "2          1          11.045361   65.5    52.4          152       154.0   \n",
              "3          2          12.806248   66.2    54.3          109       102.0   \n",
              "4          2          12.806248   66.4    54.3          136       115.0   \n",
              "\n",
              "   city-mpg  highway-mpg  price  \n",
              "0        21           27  13495  \n",
              "1        21           27  16500  \n",
              "2        19           26  16500  \n",
              "3        24           30  13950  \n",
              "4        18           22  17450  "
            ],
            "text/html": [
              "\n",
              "  <div id=\"df-eb6bbbad-9f0f-4996-90fb-c56de860179f\">\n",
              "    <div class=\"colab-df-container\">\n",
              "      <div>\n",
              "<style scoped>\n",
              "    .dataframe tbody tr th:only-of-type {\n",
              "        vertical-align: middle;\n",
              "    }\n",
              "\n",
              "    .dataframe tbody tr th {\n",
              "        vertical-align: top;\n",
              "    }\n",
              "\n",
              "    .dataframe thead th {\n",
              "        text-align: right;\n",
              "    }\n",
              "</style>\n",
              "<table border=\"1\" class=\"dataframe\">\n",
              "  <thead>\n",
              "    <tr style=\"text-align: right;\">\n",
              "      <th></th>\n",
              "      <th>make</th>\n",
              "      <th>fuel-type</th>\n",
              "      <th>body-style</th>\n",
              "      <th>drive-wheels</th>\n",
              "      <th>engine-location</th>\n",
              "      <th>engine-type</th>\n",
              "      <th>symboling</th>\n",
              "      <th>normalized-losses</th>\n",
              "      <th>width</th>\n",
              "      <th>height</th>\n",
              "      <th>engine-size</th>\n",
              "      <th>horsepower</th>\n",
              "      <th>city-mpg</th>\n",
              "      <th>highway-mpg</th>\n",
              "      <th>price</th>\n",
              "    </tr>\n",
              "  </thead>\n",
              "  <tbody>\n",
              "    <tr>\n",
              "      <th>0</th>\n",
              "      <td>0</td>\n",
              "      <td>1</td>\n",
              "      <td>0</td>\n",
              "      <td>2</td>\n",
              "      <td>0</td>\n",
              "      <td>0</td>\n",
              "      <td>3</td>\n",
              "      <td>11.045361</td>\n",
              "      <td>64.1</td>\n",
              "      <td>48.8</td>\n",
              "      <td>130</td>\n",
              "      <td>111.0</td>\n",
              "      <td>21</td>\n",
              "      <td>27</td>\n",
              "      <td>13495</td>\n",
              "    </tr>\n",
              "    <tr>\n",
              "      <th>1</th>\n",
              "      <td>0</td>\n",
              "      <td>1</td>\n",
              "      <td>0</td>\n",
              "      <td>2</td>\n",
              "      <td>0</td>\n",
              "      <td>0</td>\n",
              "      <td>3</td>\n",
              "      <td>11.045361</td>\n",
              "      <td>64.1</td>\n",
              "      <td>48.8</td>\n",
              "      <td>130</td>\n",
              "      <td>111.0</td>\n",
              "      <td>21</td>\n",
              "      <td>27</td>\n",
              "      <td>16500</td>\n",
              "    </tr>\n",
              "    <tr>\n",
              "      <th>2</th>\n",
              "      <td>0</td>\n",
              "      <td>1</td>\n",
              "      <td>2</td>\n",
              "      <td>2</td>\n",
              "      <td>0</td>\n",
              "      <td>5</td>\n",
              "      <td>1</td>\n",
              "      <td>11.045361</td>\n",
              "      <td>65.5</td>\n",
              "      <td>52.4</td>\n",
              "      <td>152</td>\n",
              "      <td>154.0</td>\n",
              "      <td>19</td>\n",
              "      <td>26</td>\n",
              "      <td>16500</td>\n",
              "    </tr>\n",
              "    <tr>\n",
              "      <th>3</th>\n",
              "      <td>1</td>\n",
              "      <td>1</td>\n",
              "      <td>3</td>\n",
              "      <td>1</td>\n",
              "      <td>0</td>\n",
              "      <td>3</td>\n",
              "      <td>2</td>\n",
              "      <td>12.806248</td>\n",
              "      <td>66.2</td>\n",
              "      <td>54.3</td>\n",
              "      <td>109</td>\n",
              "      <td>102.0</td>\n",
              "      <td>24</td>\n",
              "      <td>30</td>\n",
              "      <td>13950</td>\n",
              "    </tr>\n",
              "    <tr>\n",
              "      <th>4</th>\n",
              "      <td>1</td>\n",
              "      <td>1</td>\n",
              "      <td>3</td>\n",
              "      <td>0</td>\n",
              "      <td>0</td>\n",
              "      <td>3</td>\n",
              "      <td>2</td>\n",
              "      <td>12.806248</td>\n",
              "      <td>66.4</td>\n",
              "      <td>54.3</td>\n",
              "      <td>136</td>\n",
              "      <td>115.0</td>\n",
              "      <td>18</td>\n",
              "      <td>22</td>\n",
              "      <td>17450</td>\n",
              "    </tr>\n",
              "  </tbody>\n",
              "</table>\n",
              "</div>\n",
              "      <button class=\"colab-df-convert\" onclick=\"convertToInteractive('df-eb6bbbad-9f0f-4996-90fb-c56de860179f')\"\n",
              "              title=\"Convert this dataframe to an interactive table.\"\n",
              "              style=\"display:none;\">\n",
              "        \n",
              "  <svg xmlns=\"http://www.w3.org/2000/svg\" height=\"24px\"viewBox=\"0 0 24 24\"\n",
              "       width=\"24px\">\n",
              "    <path d=\"M0 0h24v24H0V0z\" fill=\"none\"/>\n",
              "    <path d=\"M18.56 5.44l.94 2.06.94-2.06 2.06-.94-2.06-.94-.94-2.06-.94 2.06-2.06.94zm-11 1L8.5 8.5l.94-2.06 2.06-.94-2.06-.94L8.5 2.5l-.94 2.06-2.06.94zm10 10l.94 2.06.94-2.06 2.06-.94-2.06-.94-.94-2.06-.94 2.06-2.06.94z\"/><path d=\"M17.41 7.96l-1.37-1.37c-.4-.4-.92-.59-1.43-.59-.52 0-1.04.2-1.43.59L10.3 9.45l-7.72 7.72c-.78.78-.78 2.05 0 2.83L4 21.41c.39.39.9.59 1.41.59.51 0 1.02-.2 1.41-.59l7.78-7.78 2.81-2.81c.8-.78.8-2.07 0-2.86zM5.41 20L4 18.59l7.72-7.72 1.47 1.35L5.41 20z\"/>\n",
              "  </svg>\n",
              "      </button>\n",
              "      \n",
              "  <style>\n",
              "    .colab-df-container {\n",
              "      display:flex;\n",
              "      flex-wrap:wrap;\n",
              "      gap: 12px;\n",
              "    }\n",
              "\n",
              "    .colab-df-convert {\n",
              "      background-color: #E8F0FE;\n",
              "      border: none;\n",
              "      border-radius: 50%;\n",
              "      cursor: pointer;\n",
              "      display: none;\n",
              "      fill: #1967D2;\n",
              "      height: 32px;\n",
              "      padding: 0 0 0 0;\n",
              "      width: 32px;\n",
              "    }\n",
              "\n",
              "    .colab-df-convert:hover {\n",
              "      background-color: #E2EBFA;\n",
              "      box-shadow: 0px 1px 2px rgba(60, 64, 67, 0.3), 0px 1px 3px 1px rgba(60, 64, 67, 0.15);\n",
              "      fill: #174EA6;\n",
              "    }\n",
              "\n",
              "    [theme=dark] .colab-df-convert {\n",
              "      background-color: #3B4455;\n",
              "      fill: #D2E3FC;\n",
              "    }\n",
              "\n",
              "    [theme=dark] .colab-df-convert:hover {\n",
              "      background-color: #434B5C;\n",
              "      box-shadow: 0px 1px 3px 1px rgba(0, 0, 0, 0.15);\n",
              "      filter: drop-shadow(0px 1px 2px rgba(0, 0, 0, 0.3));\n",
              "      fill: #FFFFFF;\n",
              "    }\n",
              "  </style>\n",
              "\n",
              "      <script>\n",
              "        const buttonEl =\n",
              "          document.querySelector('#df-eb6bbbad-9f0f-4996-90fb-c56de860179f button.colab-df-convert');\n",
              "        buttonEl.style.display =\n",
              "          google.colab.kernel.accessAllowed ? 'block' : 'none';\n",
              "\n",
              "        async function convertToInteractive(key) {\n",
              "          const element = document.querySelector('#df-eb6bbbad-9f0f-4996-90fb-c56de860179f');\n",
              "          const dataTable =\n",
              "            await google.colab.kernel.invokeFunction('convertToInteractive',\n",
              "                                                     [key], {});\n",
              "          if (!dataTable) return;\n",
              "\n",
              "          const docLinkHtml = 'Like what you see? Visit the ' +\n",
              "            '<a target=\"_blank\" href=https://colab.research.google.com/notebooks/data_table.ipynb>data table notebook</a>'\n",
              "            + ' to learn more about interactive tables.';\n",
              "          element.innerHTML = '';\n",
              "          dataTable['output_type'] = 'display_data';\n",
              "          await google.colab.output.renderOutput(dataTable, element);\n",
              "          const docLink = document.createElement('div');\n",
              "          docLink.innerHTML = docLinkHtml;\n",
              "          element.appendChild(docLink);\n",
              "        }\n",
              "      </script>\n",
              "    </div>\n",
              "  </div>\n",
              "  "
            ]
          },
          "metadata": {},
          "execution_count": 21
        }
      ],
      "source": [
        "df.head()"
      ]
    },
    {
      "cell_type": "markdown",
      "source": [],
      "metadata": {
        "id": "zeef_sh_2sog"
      },
      "id": "zeef_sh_2sog"
    },
    {
      "cell_type": "markdown",
      "source": [
        "# Scaling"
      ],
      "metadata": {
        "id": "S-xXD3WK2s6N"
      },
      "id": "S-xXD3WK2s6N"
    },
    {
      "cell_type": "code",
      "source": [
        "from sklearn.preprocessing import StandardScaler\n",
        "\n",
        "for col in df:\n",
        "    sc =StandardScaler()\n",
        "    df[col] = sc.fit_transform(df[[col]])\n"
      ],
      "metadata": {
        "id": "39nC8UPs2ofR"
      },
      "id": "39nC8UPs2ofR",
      "execution_count": 22,
      "outputs": []
    },
    {
      "cell_type": "markdown",
      "source": [
        "# Feature Engineering"
      ],
      "metadata": {
        "id": "Zilx5Lkk3DcD"
      },
      "id": "Zilx5Lkk3DcD"
    },
    {
      "cell_type": "code",
      "source": [
        "df[\"Area\"] = df[\"height\"] * df[\"width\"]\n",
        "df.drop([\"height\", \"width\"], axis=1, inplace=True)"
      ],
      "metadata": {
        "id": "Iu_KMgpc296t"
      },
      "id": "Iu_KMgpc296t",
      "execution_count": 23,
      "outputs": []
    },
    {
      "cell_type": "code",
      "execution_count": 24,
      "id": "4899b58c",
      "metadata": {
        "id": "4899b58c"
      },
      "outputs": [],
      "source": [
        "x = df.iloc[:, :-1]\n",
        "y = df.iloc[:, -1]"
      ]
    },
    {
      "cell_type": "code",
      "execution_count": 25,
      "id": "a663edf6",
      "metadata": {
        "id": "a663edf6",
        "outputId": "8750a6d8-e244-4c3c-c985-0536ec88e5b8",
        "colab": {
          "base_uri": "https://localhost:8080/",
          "height": 423
        }
      },
      "outputs": [
        {
          "output_type": "execute_result",
          "data": {
            "text/plain": [
              "         make  fuel-type  body-style  drive-wheels  engine-location  \\\n",
              "0   -1.930113   0.340010   -3.112000      1.229517        -0.125656   \n",
              "1   -1.930113   0.340010   -3.112000      1.229517        -0.125656   \n",
              "2   -1.930113   0.340010   -0.752016      1.229517        -0.125656   \n",
              "3   -1.771124   0.340010    0.427976     -0.568186        -0.125656   \n",
              "4   -1.771124   0.340010    0.427976     -2.365889        -0.125656   \n",
              "..        ...        ...         ...           ...              ...   \n",
              "200  1.408661   0.340010    0.427976      1.229517        -0.125656   \n",
              "201  1.408661   0.340010    0.427976      1.229517        -0.125656   \n",
              "202  1.408661   0.340010    0.427976      1.229517        -0.125656   \n",
              "203  1.408661  -2.941088    0.427976      1.229517        -0.125656   \n",
              "204  1.408661   0.340010    0.427976      1.229517        -0.125656   \n",
              "\n",
              "     engine-type  symboling  normalized-losses  engine-size  horsepower  \\\n",
              "0      -3.103277   1.867513           0.083051     0.107874    0.224311   \n",
              "1      -3.103277   1.867513           0.083051     0.107874    0.224311   \n",
              "2       1.938242   0.187187           0.083051     0.631937    1.321612   \n",
              "3      -0.078366   1.027350           1.346403    -0.392369   -0.005357   \n",
              "4      -0.078366   1.027350           1.346403     0.250800    0.326386   \n",
              "..           ...        ...                ...          ...         ...   \n",
              "200    -0.078366  -1.493140          -0.848608     0.369905    0.300867   \n",
              "201    -0.078366  -1.493140          -0.848608     0.369905    1.474724   \n",
              "202     1.938242  -1.493140          -0.848608     1.132180    0.811240   \n",
              "203    -0.078366  -1.493140          -0.848608     0.465190    0.096718   \n",
              "204    -0.078366  -1.493140          -0.848608     0.369905    0.300867   \n",
              "\n",
              "     city-mpg  highway-mpg     price  \n",
              "0   -0.680796    -0.585808  0.050194  \n",
              "1   -0.680796    -0.585808  0.422324  \n",
              "2   -0.987075    -0.731505  0.422324  \n",
              "3   -0.221378    -0.148717  0.106540  \n",
              "4   -1.140215    -1.314294  0.539969  \n",
              "..        ...          ...       ...  \n",
              "200 -0.374517    -0.440111  0.465048  \n",
              "201 -0.987075    -0.877202  0.737489  \n",
              "202 -1.140215    -1.168596  1.039652  \n",
              "203  0.084901    -0.585808  1.161631  \n",
              "204 -0.987075    -0.877202  1.180826  \n",
              "\n",
              "[193 rows x 13 columns]"
            ],
            "text/html": [
              "\n",
              "  <div id=\"df-7fc64563-237d-4184-b486-7cb92924802d\">\n",
              "    <div class=\"colab-df-container\">\n",
              "      <div>\n",
              "<style scoped>\n",
              "    .dataframe tbody tr th:only-of-type {\n",
              "        vertical-align: middle;\n",
              "    }\n",
              "\n",
              "    .dataframe tbody tr th {\n",
              "        vertical-align: top;\n",
              "    }\n",
              "\n",
              "    .dataframe thead th {\n",
              "        text-align: right;\n",
              "    }\n",
              "</style>\n",
              "<table border=\"1\" class=\"dataframe\">\n",
              "  <thead>\n",
              "    <tr style=\"text-align: right;\">\n",
              "      <th></th>\n",
              "      <th>make</th>\n",
              "      <th>fuel-type</th>\n",
              "      <th>body-style</th>\n",
              "      <th>drive-wheels</th>\n",
              "      <th>engine-location</th>\n",
              "      <th>engine-type</th>\n",
              "      <th>symboling</th>\n",
              "      <th>normalized-losses</th>\n",
              "      <th>engine-size</th>\n",
              "      <th>horsepower</th>\n",
              "      <th>city-mpg</th>\n",
              "      <th>highway-mpg</th>\n",
              "      <th>price</th>\n",
              "    </tr>\n",
              "  </thead>\n",
              "  <tbody>\n",
              "    <tr>\n",
              "      <th>0</th>\n",
              "      <td>-1.930113</td>\n",
              "      <td>0.340010</td>\n",
              "      <td>-3.112000</td>\n",
              "      <td>1.229517</td>\n",
              "      <td>-0.125656</td>\n",
              "      <td>-3.103277</td>\n",
              "      <td>1.867513</td>\n",
              "      <td>0.083051</td>\n",
              "      <td>0.107874</td>\n",
              "      <td>0.224311</td>\n",
              "      <td>-0.680796</td>\n",
              "      <td>-0.585808</td>\n",
              "      <td>0.050194</td>\n",
              "    </tr>\n",
              "    <tr>\n",
              "      <th>1</th>\n",
              "      <td>-1.930113</td>\n",
              "      <td>0.340010</td>\n",
              "      <td>-3.112000</td>\n",
              "      <td>1.229517</td>\n",
              "      <td>-0.125656</td>\n",
              "      <td>-3.103277</td>\n",
              "      <td>1.867513</td>\n",
              "      <td>0.083051</td>\n",
              "      <td>0.107874</td>\n",
              "      <td>0.224311</td>\n",
              "      <td>-0.680796</td>\n",
              "      <td>-0.585808</td>\n",
              "      <td>0.422324</td>\n",
              "    </tr>\n",
              "    <tr>\n",
              "      <th>2</th>\n",
              "      <td>-1.930113</td>\n",
              "      <td>0.340010</td>\n",
              "      <td>-0.752016</td>\n",
              "      <td>1.229517</td>\n",
              "      <td>-0.125656</td>\n",
              "      <td>1.938242</td>\n",
              "      <td>0.187187</td>\n",
              "      <td>0.083051</td>\n",
              "      <td>0.631937</td>\n",
              "      <td>1.321612</td>\n",
              "      <td>-0.987075</td>\n",
              "      <td>-0.731505</td>\n",
              "      <td>0.422324</td>\n",
              "    </tr>\n",
              "    <tr>\n",
              "      <th>3</th>\n",
              "      <td>-1.771124</td>\n",
              "      <td>0.340010</td>\n",
              "      <td>0.427976</td>\n",
              "      <td>-0.568186</td>\n",
              "      <td>-0.125656</td>\n",
              "      <td>-0.078366</td>\n",
              "      <td>1.027350</td>\n",
              "      <td>1.346403</td>\n",
              "      <td>-0.392369</td>\n",
              "      <td>-0.005357</td>\n",
              "      <td>-0.221378</td>\n",
              "      <td>-0.148717</td>\n",
              "      <td>0.106540</td>\n",
              "    </tr>\n",
              "    <tr>\n",
              "      <th>4</th>\n",
              "      <td>-1.771124</td>\n",
              "      <td>0.340010</td>\n",
              "      <td>0.427976</td>\n",
              "      <td>-2.365889</td>\n",
              "      <td>-0.125656</td>\n",
              "      <td>-0.078366</td>\n",
              "      <td>1.027350</td>\n",
              "      <td>1.346403</td>\n",
              "      <td>0.250800</td>\n",
              "      <td>0.326386</td>\n",
              "      <td>-1.140215</td>\n",
              "      <td>-1.314294</td>\n",
              "      <td>0.539969</td>\n",
              "    </tr>\n",
              "    <tr>\n",
              "      <th>...</th>\n",
              "      <td>...</td>\n",
              "      <td>...</td>\n",
              "      <td>...</td>\n",
              "      <td>...</td>\n",
              "      <td>...</td>\n",
              "      <td>...</td>\n",
              "      <td>...</td>\n",
              "      <td>...</td>\n",
              "      <td>...</td>\n",
              "      <td>...</td>\n",
              "      <td>...</td>\n",
              "      <td>...</td>\n",
              "      <td>...</td>\n",
              "    </tr>\n",
              "    <tr>\n",
              "      <th>200</th>\n",
              "      <td>1.408661</td>\n",
              "      <td>0.340010</td>\n",
              "      <td>0.427976</td>\n",
              "      <td>1.229517</td>\n",
              "      <td>-0.125656</td>\n",
              "      <td>-0.078366</td>\n",
              "      <td>-1.493140</td>\n",
              "      <td>-0.848608</td>\n",
              "      <td>0.369905</td>\n",
              "      <td>0.300867</td>\n",
              "      <td>-0.374517</td>\n",
              "      <td>-0.440111</td>\n",
              "      <td>0.465048</td>\n",
              "    </tr>\n",
              "    <tr>\n",
              "      <th>201</th>\n",
              "      <td>1.408661</td>\n",
              "      <td>0.340010</td>\n",
              "      <td>0.427976</td>\n",
              "      <td>1.229517</td>\n",
              "      <td>-0.125656</td>\n",
              "      <td>-0.078366</td>\n",
              "      <td>-1.493140</td>\n",
              "      <td>-0.848608</td>\n",
              "      <td>0.369905</td>\n",
              "      <td>1.474724</td>\n",
              "      <td>-0.987075</td>\n",
              "      <td>-0.877202</td>\n",
              "      <td>0.737489</td>\n",
              "    </tr>\n",
              "    <tr>\n",
              "      <th>202</th>\n",
              "      <td>1.408661</td>\n",
              "      <td>0.340010</td>\n",
              "      <td>0.427976</td>\n",
              "      <td>1.229517</td>\n",
              "      <td>-0.125656</td>\n",
              "      <td>1.938242</td>\n",
              "      <td>-1.493140</td>\n",
              "      <td>-0.848608</td>\n",
              "      <td>1.132180</td>\n",
              "      <td>0.811240</td>\n",
              "      <td>-1.140215</td>\n",
              "      <td>-1.168596</td>\n",
              "      <td>1.039652</td>\n",
              "    </tr>\n",
              "    <tr>\n",
              "      <th>203</th>\n",
              "      <td>1.408661</td>\n",
              "      <td>-2.941088</td>\n",
              "      <td>0.427976</td>\n",
              "      <td>1.229517</td>\n",
              "      <td>-0.125656</td>\n",
              "      <td>-0.078366</td>\n",
              "      <td>-1.493140</td>\n",
              "      <td>-0.848608</td>\n",
              "      <td>0.465190</td>\n",
              "      <td>0.096718</td>\n",
              "      <td>0.084901</td>\n",
              "      <td>-0.585808</td>\n",
              "      <td>1.161631</td>\n",
              "    </tr>\n",
              "    <tr>\n",
              "      <th>204</th>\n",
              "      <td>1.408661</td>\n",
              "      <td>0.340010</td>\n",
              "      <td>0.427976</td>\n",
              "      <td>1.229517</td>\n",
              "      <td>-0.125656</td>\n",
              "      <td>-0.078366</td>\n",
              "      <td>-1.493140</td>\n",
              "      <td>-0.848608</td>\n",
              "      <td>0.369905</td>\n",
              "      <td>0.300867</td>\n",
              "      <td>-0.987075</td>\n",
              "      <td>-0.877202</td>\n",
              "      <td>1.180826</td>\n",
              "    </tr>\n",
              "  </tbody>\n",
              "</table>\n",
              "<p>193 rows × 13 columns</p>\n",
              "</div>\n",
              "      <button class=\"colab-df-convert\" onclick=\"convertToInteractive('df-7fc64563-237d-4184-b486-7cb92924802d')\"\n",
              "              title=\"Convert this dataframe to an interactive table.\"\n",
              "              style=\"display:none;\">\n",
              "        \n",
              "  <svg xmlns=\"http://www.w3.org/2000/svg\" height=\"24px\"viewBox=\"0 0 24 24\"\n",
              "       width=\"24px\">\n",
              "    <path d=\"M0 0h24v24H0V0z\" fill=\"none\"/>\n",
              "    <path d=\"M18.56 5.44l.94 2.06.94-2.06 2.06-.94-2.06-.94-.94-2.06-.94 2.06-2.06.94zm-11 1L8.5 8.5l.94-2.06 2.06-.94-2.06-.94L8.5 2.5l-.94 2.06-2.06.94zm10 10l.94 2.06.94-2.06 2.06-.94-2.06-.94-.94-2.06-.94 2.06-2.06.94z\"/><path d=\"M17.41 7.96l-1.37-1.37c-.4-.4-.92-.59-1.43-.59-.52 0-1.04.2-1.43.59L10.3 9.45l-7.72 7.72c-.78.78-.78 2.05 0 2.83L4 21.41c.39.39.9.59 1.41.59.51 0 1.02-.2 1.41-.59l7.78-7.78 2.81-2.81c.8-.78.8-2.07 0-2.86zM5.41 20L4 18.59l7.72-7.72 1.47 1.35L5.41 20z\"/>\n",
              "  </svg>\n",
              "      </button>\n",
              "      \n",
              "  <style>\n",
              "    .colab-df-container {\n",
              "      display:flex;\n",
              "      flex-wrap:wrap;\n",
              "      gap: 12px;\n",
              "    }\n",
              "\n",
              "    .colab-df-convert {\n",
              "      background-color: #E8F0FE;\n",
              "      border: none;\n",
              "      border-radius: 50%;\n",
              "      cursor: pointer;\n",
              "      display: none;\n",
              "      fill: #1967D2;\n",
              "      height: 32px;\n",
              "      padding: 0 0 0 0;\n",
              "      width: 32px;\n",
              "    }\n",
              "\n",
              "    .colab-df-convert:hover {\n",
              "      background-color: #E2EBFA;\n",
              "      box-shadow: 0px 1px 2px rgba(60, 64, 67, 0.3), 0px 1px 3px 1px rgba(60, 64, 67, 0.15);\n",
              "      fill: #174EA6;\n",
              "    }\n",
              "\n",
              "    [theme=dark] .colab-df-convert {\n",
              "      background-color: #3B4455;\n",
              "      fill: #D2E3FC;\n",
              "    }\n",
              "\n",
              "    [theme=dark] .colab-df-convert:hover {\n",
              "      background-color: #434B5C;\n",
              "      box-shadow: 0px 1px 3px 1px rgba(0, 0, 0, 0.15);\n",
              "      filter: drop-shadow(0px 1px 2px rgba(0, 0, 0, 0.3));\n",
              "      fill: #FFFFFF;\n",
              "    }\n",
              "  </style>\n",
              "\n",
              "      <script>\n",
              "        const buttonEl =\n",
              "          document.querySelector('#df-7fc64563-237d-4184-b486-7cb92924802d button.colab-df-convert');\n",
              "        buttonEl.style.display =\n",
              "          google.colab.kernel.accessAllowed ? 'block' : 'none';\n",
              "\n",
              "        async function convertToInteractive(key) {\n",
              "          const element = document.querySelector('#df-7fc64563-237d-4184-b486-7cb92924802d');\n",
              "          const dataTable =\n",
              "            await google.colab.kernel.invokeFunction('convertToInteractive',\n",
              "                                                     [key], {});\n",
              "          if (!dataTable) return;\n",
              "\n",
              "          const docLinkHtml = 'Like what you see? Visit the ' +\n",
              "            '<a target=\"_blank\" href=https://colab.research.google.com/notebooks/data_table.ipynb>data table notebook</a>'\n",
              "            + ' to learn more about interactive tables.';\n",
              "          element.innerHTML = '';\n",
              "          dataTable['output_type'] = 'display_data';\n",
              "          await google.colab.output.renderOutput(dataTable, element);\n",
              "          const docLink = document.createElement('div');\n",
              "          docLink.innerHTML = docLinkHtml;\n",
              "          element.appendChild(docLink);\n",
              "        }\n",
              "      </script>\n",
              "    </div>\n",
              "  </div>\n",
              "  "
            ]
          },
          "metadata": {},
          "execution_count": 25
        }
      ],
      "source": [
        "x"
      ]
    },
    {
      "cell_type": "code",
      "execution_count": 26,
      "id": "afd7850b",
      "metadata": {
        "id": "afd7850b",
        "outputId": "091e3df6-574d-449b-9894-3bc1c7251dca",
        "colab": {
          "base_uri": "https://localhost:8080/"
        }
      },
      "outputs": [
        {
          "output_type": "execute_result",
          "data": {
            "text/plain": [
              "0      1.693561\n",
              "1      1.693561\n",
              "2      0.105507\n",
              "3      0.026694\n",
              "4      0.043925\n",
              "         ...   \n",
              "200    0.937146\n",
              "201    0.906010\n",
              "202    0.937146\n",
              "203    0.937146\n",
              "204    0.937146\n",
              "Name: Area, Length: 193, dtype: float64"
            ]
          },
          "metadata": {},
          "execution_count": 26
        }
      ],
      "source": [
        "y"
      ]
    },
    {
      "cell_type": "code",
      "execution_count": 27,
      "id": "0edc28f2",
      "metadata": {
        "id": "0edc28f2"
      },
      "outputs": [],
      "source": [
        "from sklearn.model_selection import train_test_split\n",
        "xtrain, xtest, ytrain, ytest = train_test_split(x,y, test_size=0.3, random_state=1)"
      ]
    },
    {
      "cell_type": "code",
      "execution_count": 28,
      "id": "18038b9e",
      "metadata": {
        "id": "18038b9e",
        "outputId": "c87a0b97-8183-487f-fe20-7b41f0b2f105",
        "colab": {
          "base_uri": "https://localhost:8080/"
        }
      },
      "outputs": [
        {
          "output_type": "execute_result",
          "data": {
            "text/plain": [
              "LinearRegression()"
            ]
          },
          "metadata": {},
          "execution_count": 28
        }
      ],
      "source": [
        "from sklearn.linear_model import LinearRegression\n",
        "linreg = LinearRegression()\n",
        "linreg.fit(xtrain, ytrain)"
      ]
    },
    {
      "cell_type": "code",
      "execution_count": 29,
      "id": "285a7281",
      "metadata": {
        "id": "285a7281",
        "outputId": "b4ebc32b-e679-4bbe-fa48-d4b3b8a71350",
        "colab": {
          "base_uri": "https://localhost:8080/"
        }
      },
      "outputs": [
        {
          "output_type": "stream",
          "name": "stdout",
          "text": [
            "Traning Result -: 0.37085270618775945\n",
            "Test Result -: 0.005504591665618674\n"
          ]
        }
      ],
      "source": [
        "train = linreg.score(xtrain, ytrain)\n",
        "test = linreg.score(xtest, ytest)\n",
        "print(f\"Traning Result -: {train}\")\n",
        "print(f\"Test Result -: {test}\")"
      ]
    },
    {
      "cell_type": "code",
      "execution_count": 30,
      "id": "3c4c8038",
      "metadata": {
        "id": "3c4c8038"
      },
      "outputs": [],
      "source": [
        "#low training error -: low bias\n",
        "#high test error -: high variance\n",
        "#overfitting"
      ]
    },
    {
      "cell_type": "code",
      "execution_count": 31,
      "id": "ac138aed",
      "metadata": {
        "id": "ac138aed"
      },
      "outputs": [],
      "source": [
        "from sklearn.linear_model import Ridge, Lasso"
      ]
    },
    {
      "cell_type": "code",
      "execution_count": 32,
      "id": "1c1f290c",
      "metadata": {
        "id": "1c1f290c",
        "colab": {
          "base_uri": "https://localhost:8080/"
        },
        "outputId": "8db13327-14ec-4626-9b3f-6a5b48cf93ae"
      },
      "outputs": [
        {
          "output_type": "execute_result",
          "data": {
            "text/plain": [
              "Lasso(alpha=10)"
            ]
          },
          "metadata": {},
          "execution_count": 32
        }
      ],
      "source": [
        "#Lasso\n",
        "l1 = Lasso(alpha=10)\n",
        "l1.fit(xtrain, ytrain)"
      ]
    },
    {
      "cell_type": "code",
      "source": [
        "train = l1.score(xtrain, ytrain)\n",
        "test = l1.score(xtest, ytest)\n",
        "print(f\"Traning Result -: {train}\")\n",
        "print(f\"Test Result -: {test}\")"
      ],
      "metadata": {
        "colab": {
          "base_uri": "https://localhost:8080/"
        },
        "id": "qU1-2jk-uWeR",
        "outputId": "0d3b2d54-bae6-4fd5-bad7-64aba43d2d58"
      },
      "id": "qU1-2jk-uWeR",
      "execution_count": 33,
      "outputs": [
        {
          "output_type": "stream",
          "name": "stdout",
          "text": [
            "Traning Result -: 0.0\n",
            "Test Result -: -0.007662080696297258\n"
          ]
        }
      ]
    },
    {
      "cell_type": "markdown",
      "source": [
        "# Hyperparameter tuning"
      ],
      "metadata": {
        "id": "kwgMhE8zvBqf"
      },
      "id": "kwgMhE8zvBqf"
    },
    {
      "cell_type": "code",
      "source": [
        "for i in range(100):\n",
        "    l2 = Ridge(alpha=i)\n",
        "    l2.fit(xtrain, ytrain)\n",
        "    print(f\"{i} -> {l2.score(xtest, ytest)}\")"
      ],
      "metadata": {
        "colab": {
          "base_uri": "https://localhost:8080/"
        },
        "id": "ctpAPsmouWiI",
        "outputId": "a6a49ebe-b36e-4551-90b1-b56086d24b57"
      },
      "id": "ctpAPsmouWiI",
      "execution_count": 34,
      "outputs": [
        {
          "output_type": "stream",
          "name": "stdout",
          "text": [
            "0 -> 0.005504591665616676\n",
            "1 -> 0.04830702620008187\n",
            "2 -> 0.076026358947342\n",
            "3 -> 0.09622620680785376\n",
            "4 -> 0.11170561665971102\n",
            "5 -> 0.12386622077778331\n",
            "6 -> 0.13354869649614565\n",
            "7 -> 0.14131450159943626\n",
            "8 -> 0.14756402528363965\n",
            "9 -> 0.1525950163121721\n",
            "10 -> 0.15663527001807365\n",
            "11 -> 0.15986265125096655\n",
            "12 -> 0.16241819746743258\n",
            "13 -> 0.1644151175623978\n",
            "14 -> 0.16594519742951808\n",
            "15 -> 0.16708348536444018\n",
            "16 -> 0.16789179282982458\n",
            "17 -> 0.16842135508771472\n",
            "18 -> 0.16871488193836082\n",
            "19 -> 0.16880815722795317\n",
            "20 -> 0.16873129921936825\n",
            "21 -> 0.16850976266048523\n",
            "22 -> 0.16816514185080955\n",
            "23 -> 0.1677158188484268\n",
            "24 -> 0.16717749009134752\n",
            "25 -> 0.16656359679259714\n",
            "26 -> 0.16588567862578762\n",
            "27 -> 0.16515366585331148\n",
            "28 -> 0.16437612175426852\n",
            "29 -> 0.16356044469806663\n",
            "30 -> 0.16271303727943798\n",
            "31 -> 0.16183944843535636\n",
            "32 -> 0.16094449329772542\n",
            "33 -> 0.1600323546194251\n",
            "34 -> 0.1591066688872429\n",
            "35 -> 0.1581705996597138\n",
            "36 -> 0.15722690020803243\n",
            "37 -> 0.156277967168855\n",
            "38 -> 0.1553258866197602\n",
            "39 -> 0.15437247374650587\n",
            "40 -> 0.15341930707450668\n",
            "41 -> 0.1524677580761381\n",
            "42 -> 0.151519016833498\n",
            "43 -> 0.1505741143275361\n",
            "44 -> 0.14963394183459533\n",
            "45 -> 0.14869926783685528\n",
            "46 -> 0.1477707527911355\n",
            "47 -> 0.14684896204871745\n",
            "48 -> 0.14593437717548918\n",
            "49 -> 0.14502740588528995\n",
            "50 -> 0.14412839076867356\n",
            "51 -> 0.14323761697342174\n",
            "52 -> 0.1423553189712058\n",
            "53 -> 0.14148168652621462\n",
            "54 -> 0.14061686996572953\n",
            "55 -> 0.1397609848391408\n",
            "56 -> 0.13891411604037618\n",
            "57 -> 0.1380763214588323\n",
            "58 -> 0.1372476352154326\n",
            "59 -> 0.13642807053314043\n",
            "60 -> 0.1356176222849953\n",
            "61 -> 0.13481626925729873\n",
            "62 -> 0.13402397616091055\n",
            "63 -> 0.13324069541953942\n",
            "64 -> 0.13246636876040074\n",
            "65 -> 0.1317009286295422\n",
            "66 -> 0.13094429945147512\n",
            "67 -> 0.13019639875042277\n",
            "68 -> 0.12945713814846516\n",
            "69 -> 0.12872642425408076\n",
            "70 -> 0.12800415945303623\n",
            "71 -> 0.12729024261219724\n",
            "72 -> 0.12658456970565035\n",
            "73 -> 0.1258870343714562\n",
            "74 -> 0.12519752840643694\n",
            "75 -> 0.12451594220557494\n",
            "76 -> 0.12384216515187962\n",
            "77 -> 0.12317608596194096\n",
            "78 -> 0.12251759299182541\n",
            "79 -> 0.12186657450745908\n",
            "80 -> 0.12122291892321568\n",
            "81 -> 0.12058651501201678\n",
            "82 -> 0.11995725208991415\n",
            "83 -> 0.11933502017780506\n",
            "84 -> 0.11871971014265625\n",
            "85 -> 0.11811121382037115\n",
            "86 -> 0.117509424122204\n",
            "87 -> 0.11691423512643861\n",
            "88 -> 0.11632554215686963\n",
            "89 -> 0.11574324184946239\n",
            "90 -> 0.11516723220844227\n",
            "91 -> 0.1145974126529179\n",
            "92 -> 0.11403368405504866\n",
            "93 -> 0.11347594877065681\n",
            "94 -> 0.11292411066309438\n",
            "95 -> 0.11237807512109732\n",
            "96 -> 0.11183774907128174\n",
            "97 -> 0.11130304098587929\n",
            "98 -> 0.11077386088623709\n",
            "99 -> 0.11025012034257231\n"
          ]
        }
      ]
    },
    {
      "cell_type": "code",
      "source": [
        "l2 = Ridge(alpha=10)\n",
        "l2.fit(xtrain, ytrain)"
      ],
      "metadata": {
        "colab": {
          "base_uri": "https://localhost:8080/"
        },
        "id": "XUOMpYqiuWls",
        "outputId": "47a4de8d-f8cf-469c-e9f4-9d4f441d26a8"
      },
      "id": "XUOMpYqiuWls",
      "execution_count": 35,
      "outputs": [
        {
          "output_type": "execute_result",
          "data": {
            "text/plain": [
              "Ridge(alpha=10)"
            ]
          },
          "metadata": {},
          "execution_count": 35
        }
      ]
    },
    {
      "cell_type": "code",
      "source": [
        "from sklearn.metrics import r2_score\n",
        "ypred = l2.predict(xtest)\n",
        "print(f\"Accuracy -: {r2_score(ytest, ypred)}\")\n",
        "\n",
        "train = l2.score(xtrain, ytrain)\n",
        "test = l2.score(xtest, ytest)\n",
        "print(f\"Traning Result -: {train}\")\n",
        "print(f\"Test Result -: {test}\")"
      ],
      "metadata": {
        "colab": {
          "base_uri": "https://localhost:8080/"
        },
        "id": "X9VFigkxvL4_",
        "outputId": "2f7b03b8-d068-420c-e4f0-75b4a6d44cc8"
      },
      "id": "X9VFigkxvL4_",
      "execution_count": 36,
      "outputs": [
        {
          "output_type": "stream",
          "name": "stdout",
          "text": [
            "Accuracy -: 0.15663527001807365\n",
            "Traning Result -: 0.3363264307341184\n",
            "Test Result -: 0.15663527001807365\n"
          ]
        }
      ]
    },
    {
      "cell_type": "code",
      "source": [
        "for i in range(151, 251):\n",
        "    l1 = Lasso(alpha=i)\n",
        "    l1.fit(xtrain, ytrain)\n",
        "    print(f\"{i} -> {l1.score(xtest, ytest)}\")"
      ],
      "metadata": {
        "colab": {
          "base_uri": "https://localhost:8080/"
        },
        "id": "cWeG9H-lvL8t",
        "outputId": "03999588-d9cf-4549-943d-ed69f957984c"
      },
      "id": "cWeG9H-lvL8t",
      "execution_count": 37,
      "outputs": [
        {
          "output_type": "stream",
          "name": "stdout",
          "text": [
            "151 -> -0.007662080696297258\n",
            "152 -> -0.007662080696297258\n",
            "153 -> -0.007662080696297258\n",
            "154 -> -0.007662080696297258\n",
            "155 -> -0.007662080696297258\n",
            "156 -> -0.007662080696297258\n",
            "157 -> -0.007662080696297258\n",
            "158 -> -0.007662080696297258\n",
            "159 -> -0.007662080696297258\n",
            "160 -> -0.007662080696297258\n",
            "161 -> -0.007662080696297258\n",
            "162 -> -0.007662080696297258\n",
            "163 -> -0.007662080696297258\n",
            "164 -> -0.007662080696297258\n",
            "165 -> -0.007662080696297258\n",
            "166 -> -0.007662080696297258\n",
            "167 -> -0.007662080696297258\n",
            "168 -> -0.007662080696297258\n",
            "169 -> -0.007662080696297258\n",
            "170 -> -0.007662080696297258\n",
            "171 -> -0.007662080696297258\n",
            "172 -> -0.007662080696297258\n",
            "173 -> -0.007662080696297258\n",
            "174 -> -0.007662080696297258\n",
            "175 -> -0.007662080696297258\n",
            "176 -> -0.007662080696297258\n",
            "177 -> -0.007662080696297258\n",
            "178 -> -0.007662080696297258\n",
            "179 -> -0.007662080696297258\n",
            "180 -> -0.007662080696297258\n",
            "181 -> -0.007662080696297258\n",
            "182 -> -0.007662080696297258\n",
            "183 -> -0.007662080696297258\n",
            "184 -> -0.007662080696297258\n",
            "185 -> -0.007662080696297258\n",
            "186 -> -0.007662080696297258\n",
            "187 -> -0.007662080696297258\n",
            "188 -> -0.007662080696297258\n",
            "189 -> -0.007662080696297258\n",
            "190 -> -0.007662080696297258\n",
            "191 -> -0.007662080696297258\n",
            "192 -> -0.007662080696297258\n",
            "193 -> -0.007662080696297258\n",
            "194 -> -0.007662080696297258\n",
            "195 -> -0.007662080696297258\n",
            "196 -> -0.007662080696297258\n",
            "197 -> -0.007662080696297258\n",
            "198 -> -0.007662080696297258\n",
            "199 -> -0.007662080696297258\n",
            "200 -> -0.007662080696297258\n",
            "201 -> -0.007662080696297258\n",
            "202 -> -0.007662080696297258\n",
            "203 -> -0.007662080696297258\n",
            "204 -> -0.007662080696297258\n",
            "205 -> -0.007662080696297258\n",
            "206 -> -0.007662080696297258\n",
            "207 -> -0.007662080696297258\n",
            "208 -> -0.007662080696297258\n",
            "209 -> -0.007662080696297258\n",
            "210 -> -0.007662080696297258\n",
            "211 -> -0.007662080696297258\n",
            "212 -> -0.007662080696297258\n",
            "213 -> -0.007662080696297258\n",
            "214 -> -0.007662080696297258\n",
            "215 -> -0.007662080696297258\n",
            "216 -> -0.007662080696297258\n",
            "217 -> -0.007662080696297258\n",
            "218 -> -0.007662080696297258\n",
            "219 -> -0.007662080696297258\n",
            "220 -> -0.007662080696297258\n",
            "221 -> -0.007662080696297258\n",
            "222 -> -0.007662080696297258\n",
            "223 -> -0.007662080696297258\n",
            "224 -> -0.007662080696297258\n",
            "225 -> -0.007662080696297258\n",
            "226 -> -0.007662080696297258\n",
            "227 -> -0.007662080696297258\n",
            "228 -> -0.007662080696297258\n",
            "229 -> -0.007662080696297258\n",
            "230 -> -0.007662080696297258\n",
            "231 -> -0.007662080696297258\n",
            "232 -> -0.007662080696297258\n",
            "233 -> -0.007662080696297258\n",
            "234 -> -0.007662080696297258\n",
            "235 -> -0.007662080696297258\n",
            "236 -> -0.007662080696297258\n",
            "237 -> -0.007662080696297258\n",
            "238 -> -0.007662080696297258\n",
            "239 -> -0.007662080696297258\n",
            "240 -> -0.007662080696297258\n",
            "241 -> -0.007662080696297258\n",
            "242 -> -0.007662080696297258\n",
            "243 -> -0.007662080696297258\n",
            "244 -> -0.007662080696297258\n",
            "245 -> -0.007662080696297258\n",
            "246 -> -0.007662080696297258\n",
            "247 -> -0.007662080696297258\n",
            "248 -> -0.007662080696297258\n",
            "249 -> -0.007662080696297258\n",
            "250 -> -0.007662080696297258\n"
          ]
        }
      ]
    },
    {
      "cell_type": "code",
      "source": [
        "l1 = Lasso(alpha=210)\n",
        "l1.fit(xtrain, ytrain)"
      ],
      "metadata": {
        "colab": {
          "base_uri": "https://localhost:8080/"
        },
        "id": "Br0Om981vL_7",
        "outputId": "d1861b05-fead-4f7a-898e-b455c5c29e2a"
      },
      "id": "Br0Om981vL_7",
      "execution_count": 38,
      "outputs": [
        {
          "output_type": "execute_result",
          "data": {
            "text/plain": [
              "Lasso(alpha=210)"
            ]
          },
          "metadata": {},
          "execution_count": 38
        }
      ]
    },
    {
      "cell_type": "code",
      "source": [
        "ypred = l1.predict(xtest)\n",
        "print(f\"Accuracy -: {r2_score(ytest, ypred)}\")\n",
        "\n",
        "train = l1.score(xtrain, ytrain)\n",
        "test = l1.score(xtest, ytest)\n",
        "print(f\"Traning Result -: {train}\")\n",
        "print(f\"Test Result -: {test}\")"
      ],
      "metadata": {
        "colab": {
          "base_uri": "https://localhost:8080/"
        },
        "id": "tqfZJbAsvZ_N",
        "outputId": "f41dec87-742f-4f80-e3d5-ffea51a3f66b"
      },
      "id": "tqfZJbAsvZ_N",
      "execution_count": 39,
      "outputs": [
        {
          "output_type": "stream",
          "name": "stdout",
          "text": [
            "Accuracy -: -0.007662080696297258\n",
            "Traning Result -: 0.0\n",
            "Test Result -: -0.007662080696297258\n"
          ]
        }
      ]
    },
    {
      "cell_type": "markdown",
      "source": [
        "# Cross Validation"
      ],
      "metadata": {
        "id": "8S5rE1MYvgMF"
      },
      "id": "8S5rE1MYvgMF"
    },
    {
      "cell_type": "code",
      "source": [
        "from sklearn.model_selection import KFold"
      ],
      "metadata": {
        "id": "9sbfP6YcvaDJ"
      },
      "id": "9sbfP6YcvaDJ",
      "execution_count": 40,
      "outputs": []
    },
    {
      "cell_type": "code",
      "source": [
        "kf = KFold(n_splits=5, shuffle=False).split(range(25))"
      ],
      "metadata": {
        "id": "xqQM3qVHvaGY"
      },
      "id": "xqQM3qVHvaGY",
      "execution_count": 41,
      "outputs": []
    },
    {
      "cell_type": "code",
      "source": [
        "print(\"{} {:^61} {}\".format(\"Iteration\", \"Training Set Observation\", \"Testing Set Observations\"))\n",
        "\n",
        "for iteration, data in enumerate(kf, start=1):\n",
        "    print(\"{:^9} {} {:^25}\".format(iteration, data[0], str(data[1])))"
      ],
      "metadata": {
        "colab": {
          "base_uri": "https://localhost:8080/"
        },
        "id": "J4mwyXD7voWn",
        "outputId": "64ea980f-c0d5-4b95-fefb-6fa93005a1a2"
      },
      "id": "J4mwyXD7voWn",
      "execution_count": 42,
      "outputs": [
        {
          "output_type": "stream",
          "name": "stdout",
          "text": [
            "Iteration                   Training Set Observation                    Testing Set Observations\n",
            "    1     [ 5  6  7  8  9 10 11 12 13 14 15 16 17 18 19 20 21 22 23 24]        [0 1 2 3 4]       \n",
            "    2     [ 0  1  2  3  4 10 11 12 13 14 15 16 17 18 19 20 21 22 23 24]        [5 6 7 8 9]       \n",
            "    3     [ 0  1  2  3  4  5  6  7  8  9 15 16 17 18 19 20 21 22 23 24]     [10 11 12 13 14]     \n",
            "    4     [ 0  1  2  3  4  5  6  7  8  9 10 11 12 13 14 20 21 22 23 24]     [15 16 17 18 19]     \n",
            "    5     [ 0  1  2  3  4  5  6  7  8  9 10 11 12 13 14 15 16 17 18 19]     [20 21 22 23 24]     \n"
          ]
        }
      ]
    },
    {
      "cell_type": "code",
      "source": [
        "from sklearn.model_selection import cross_val_score"
      ],
      "metadata": {
        "id": "8EbIs8i6vwVf"
      },
      "id": "8EbIs8i6vwVf",
      "execution_count": 43,
      "outputs": []
    },
    {
      "cell_type": "code",
      "source": [
        "cvs = cross_val_score(l1, x, y, cv=4)"
      ],
      "metadata": {
        "id": "0ECt56jivwZM"
      },
      "id": "0ECt56jivwZM",
      "execution_count": 44,
      "outputs": []
    },
    {
      "cell_type": "code",
      "source": [
        "cvs"
      ],
      "metadata": {
        "colab": {
          "base_uri": "https://localhost:8080/"
        },
        "id": "Js2wWdBjvwdF",
        "outputId": "5f7fd674-8b30-4c9a-9cb0-b9a57d1e10b7"
      },
      "id": "Js2wWdBjvwdF",
      "execution_count": 45,
      "outputs": [
        {
          "output_type": "execute_result",
          "data": {
            "text/plain": [
              "array([-0.0025303 , -0.03227789, -0.00089469, -0.08871551])"
            ]
          },
          "metadata": {},
          "execution_count": 45
        }
      ]
    },
    {
      "cell_type": "code",
      "source": [
        "cvs.mean()"
      ],
      "metadata": {
        "colab": {
          "base_uri": "https://localhost:8080/"
        },
        "id": "jgSaM4fFvwgw",
        "outputId": "9edd3b62-5396-46c5-d40c-5d48ce5f080a"
      },
      "id": "jgSaM4fFvwgw",
      "execution_count": 46,
      "outputs": [
        {
          "output_type": "execute_result",
          "data": {
            "text/plain": [
              "-0.031104597720078175"
            ]
          },
          "metadata": {},
          "execution_count": 46
        }
      ]
    },
    {
      "cell_type": "code",
      "source": [
        "3/5"
      ],
      "metadata": {
        "colab": {
          "base_uri": "https://localhost:8080/"
        },
        "id": "TnL9wu63vwkK",
        "outputId": "028bce0a-4f05-4d91-95e1-e368a8bbc35d"
      },
      "id": "TnL9wu63vwkK",
      "execution_count": 47,
      "outputs": [
        {
          "output_type": "execute_result",
          "data": {
            "text/plain": [
              "0.6"
            ]
          },
          "metadata": {},
          "execution_count": 47
        }
      ]
    }
  ],
  "metadata": {
    "kernelspec": {
      "display_name": "Python 3 (ipykernel)",
      "language": "python",
      "name": "python3"
    },
    "language_info": {
      "codemirror_mode": {
        "name": "ipython",
        "version": 3
      },
      "file_extension": ".py",
      "mimetype": "text/x-python",
      "name": "python",
      "nbconvert_exporter": "python",
      "pygments_lexer": "ipython3",
      "version": "3.9.6"
    },
    "colab": {
      "provenance": []
    }
  },
  "nbformat": 4,
  "nbformat_minor": 5
}